{
 "cells": [
  {
   "cell_type": "code",
   "execution_count": 3,
   "metadata": {},
   "outputs": [
    {
     "name": "stdout",
     "output_type": "stream",
     "text": [
      "Requirement already satisfied: langgraph in c:\\users\\pkhobragade\\desktop\\langgraph\\langgraph\\langg\\lib\\site-packages (0.2.14)\n",
      "Requirement already satisfied: langchain in c:\\users\\pkhobragade\\desktop\\langgraph\\langgraph\\langg\\lib\\site-packages (0.2.14)\n",
      "Requirement already satisfied: langchain_groq in c:\\users\\pkhobragade\\desktop\\langgraph\\langgraph\\langg\\lib\\site-packages (0.1.9)\n",
      "Requirement already satisfied: langchain_community in c:\\users\\pkhobragade\\desktop\\langgraph\\langgraph\\langg\\lib\\site-packages (0.2.12)\n",
      "Requirement already satisfied: langchain-core<0.3,>=0.2.27 in c:\\users\\pkhobragade\\desktop\\langgraph\\langgraph\\langg\\lib\\site-packages (from langgraph) (0.2.35)\n",
      "Requirement already satisfied: langgraph-checkpoint<2.0.0,>=1.0.2 in c:\\users\\pkhobragade\\desktop\\langgraph\\langgraph\\langg\\lib\\site-packages (from langgraph) (1.0.6)\n",
      "Requirement already satisfied: PyYAML>=5.3 in c:\\users\\pkhobragade\\desktop\\langgraph\\langgraph\\langg\\lib\\site-packages (from langchain) (6.0.2)\n",
      "Requirement already satisfied: SQLAlchemy<3,>=1.4 in c:\\users\\pkhobragade\\desktop\\langgraph\\langgraph\\langg\\lib\\site-packages (from langchain) (2.0.32)\n",
      "Requirement already satisfied: aiohttp<4.0.0,>=3.8.3 in c:\\users\\pkhobragade\\desktop\\langgraph\\langgraph\\langg\\lib\\site-packages (from langchain) (3.10.5)\n",
      "Requirement already satisfied: langchain-text-splitters<0.3.0,>=0.2.0 in c:\\users\\pkhobragade\\desktop\\langgraph\\langgraph\\langg\\lib\\site-packages (from langchain) (0.2.2)\n",
      "Requirement already satisfied: langsmith<0.2.0,>=0.1.17 in c:\\users\\pkhobragade\\desktop\\langgraph\\langgraph\\langg\\lib\\site-packages (from langchain) (0.1.104)\n",
      "Requirement already satisfied: numpy<2.0.0,>=1.26.0 in c:\\users\\pkhobragade\\desktop\\langgraph\\langgraph\\langg\\lib\\site-packages (from langchain) (1.26.4)\n",
      "Requirement already satisfied: pydantic<3,>=1 in c:\\users\\pkhobragade\\desktop\\langgraph\\langgraph\\langg\\lib\\site-packages (from langchain) (2.8.2)\n",
      "Requirement already satisfied: requests<3,>=2 in c:\\users\\pkhobragade\\desktop\\langgraph\\langgraph\\langg\\lib\\site-packages (from langchain) (2.32.3)\n",
      "Requirement already satisfied: tenacity!=8.4.0,<9.0.0,>=8.1.0 in c:\\users\\pkhobragade\\desktop\\langgraph\\langgraph\\langg\\lib\\site-packages (from langchain) (8.5.0)\n",
      "Requirement already satisfied: groq<1,>=0.4.1 in c:\\users\\pkhobragade\\desktop\\langgraph\\langgraph\\langg\\lib\\site-packages (from langchain_groq) (0.9.0)\n",
      "Requirement already satisfied: dataclasses-json<0.7,>=0.5.7 in c:\\users\\pkhobragade\\desktop\\langgraph\\langgraph\\langg\\lib\\site-packages (from langchain_community) (0.6.7)\n",
      "Requirement already satisfied: aiohappyeyeballs>=2.3.0 in c:\\users\\pkhobragade\\desktop\\langgraph\\langgraph\\langg\\lib\\site-packages (from aiohttp<4.0.0,>=3.8.3->langchain) (2.4.0)\n",
      "Requirement already satisfied: aiosignal>=1.1.2 in c:\\users\\pkhobragade\\desktop\\langgraph\\langgraph\\langg\\lib\\site-packages (from aiohttp<4.0.0,>=3.8.3->langchain) (1.3.1)\n",
      "Requirement already satisfied: attrs>=17.3.0 in c:\\users\\pkhobragade\\desktop\\langgraph\\langgraph\\langg\\lib\\site-packages (from aiohttp<4.0.0,>=3.8.3->langchain) (24.2.0)\n",
      "Requirement already satisfied: frozenlist>=1.1.1 in c:\\users\\pkhobragade\\desktop\\langgraph\\langgraph\\langg\\lib\\site-packages (from aiohttp<4.0.0,>=3.8.3->langchain) (1.4.1)\n",
      "Requirement already satisfied: multidict<7.0,>=4.5 in c:\\users\\pkhobragade\\desktop\\langgraph\\langgraph\\langg\\lib\\site-packages (from aiohttp<4.0.0,>=3.8.3->langchain) (6.0.5)\n",
      "Requirement already satisfied: yarl<2.0,>=1.0 in c:\\users\\pkhobragade\\desktop\\langgraph\\langgraph\\langg\\lib\\site-packages (from aiohttp<4.0.0,>=3.8.3->langchain) (1.9.4)\n",
      "Requirement already satisfied: marshmallow<4.0.0,>=3.18.0 in c:\\users\\pkhobragade\\desktop\\langgraph\\langgraph\\langg\\lib\\site-packages (from dataclasses-json<0.7,>=0.5.7->langchain_community) (3.22.0)\n",
      "Requirement already satisfied: typing-inspect<1,>=0.4.0 in c:\\users\\pkhobragade\\desktop\\langgraph\\langgraph\\langg\\lib\\site-packages (from dataclasses-json<0.7,>=0.5.7->langchain_community) (0.9.0)\n",
      "Requirement already satisfied: anyio<5,>=3.5.0 in c:\\users\\pkhobragade\\desktop\\langgraph\\langgraph\\langg\\lib\\site-packages (from groq<1,>=0.4.1->langchain_groq) (4.4.0)\n",
      "Requirement already satisfied: distro<2,>=1.7.0 in c:\\users\\pkhobragade\\desktop\\langgraph\\langgraph\\langg\\lib\\site-packages (from groq<1,>=0.4.1->langchain_groq) (1.9.0)\n",
      "Requirement already satisfied: httpx<1,>=0.23.0 in c:\\users\\pkhobragade\\desktop\\langgraph\\langgraph\\langg\\lib\\site-packages (from groq<1,>=0.4.1->langchain_groq) (0.27.0)\n",
      "Requirement already satisfied: sniffio in c:\\users\\pkhobragade\\desktop\\langgraph\\langgraph\\langg\\lib\\site-packages (from groq<1,>=0.4.1->langchain_groq) (1.3.1)\n",
      "Requirement already satisfied: typing-extensions<5,>=4.7 in c:\\users\\pkhobragade\\desktop\\langgraph\\langgraph\\langg\\lib\\site-packages (from groq<1,>=0.4.1->langchain_groq) (4.12.2)\n",
      "Requirement already satisfied: jsonpatch<2.0,>=1.33 in c:\\users\\pkhobragade\\desktop\\langgraph\\langgraph\\langg\\lib\\site-packages (from langchain-core<0.3,>=0.2.27->langgraph) (1.33)\n",
      "Requirement already satisfied: packaging<25,>=23.2 in c:\\users\\pkhobragade\\desktop\\langgraph\\langgraph\\langg\\lib\\site-packages (from langchain-core<0.3,>=0.2.27->langgraph) (24.1)\n",
      "Requirement already satisfied: orjson<4.0.0,>=3.9.14 in c:\\users\\pkhobragade\\desktop\\langgraph\\langgraph\\langg\\lib\\site-packages (from langsmith<0.2.0,>=0.1.17->langchain) (3.10.7)\n",
      "Requirement already satisfied: annotated-types>=0.4.0 in c:\\users\\pkhobragade\\desktop\\langgraph\\langgraph\\langg\\lib\\site-packages (from pydantic<3,>=1->langchain) (0.7.0)\n",
      "Requirement already satisfied: pydantic-core==2.20.1 in c:\\users\\pkhobragade\\desktop\\langgraph\\langgraph\\langg\\lib\\site-packages (from pydantic<3,>=1->langchain) (2.20.1)\n",
      "Requirement already satisfied: charset-normalizer<4,>=2 in c:\\users\\pkhobragade\\desktop\\langgraph\\langgraph\\langg\\lib\\site-packages (from requests<3,>=2->langchain) (3.3.2)\n",
      "Requirement already satisfied: idna<4,>=2.5 in c:\\users\\pkhobragade\\desktop\\langgraph\\langgraph\\langg\\lib\\site-packages (from requests<3,>=2->langchain) (3.8)\n",
      "Requirement already satisfied: urllib3<3,>=1.21.1 in c:\\users\\pkhobragade\\desktop\\langgraph\\langgraph\\langg\\lib\\site-packages (from requests<3,>=2->langchain) (2.2.2)\n",
      "Requirement already satisfied: certifi>=2017.4.17 in c:\\users\\pkhobragade\\desktop\\langgraph\\langgraph\\langg\\lib\\site-packages (from requests<3,>=2->langchain) (2024.7.4)\n",
      "Requirement already satisfied: greenlet!=0.4.17 in c:\\users\\pkhobragade\\desktop\\langgraph\\langgraph\\langg\\lib\\site-packages (from SQLAlchemy<3,>=1.4->langchain) (3.0.3)\n",
      "Requirement already satisfied: httpcore==1.* in c:\\users\\pkhobragade\\desktop\\langgraph\\langgraph\\langg\\lib\\site-packages (from httpx<1,>=0.23.0->groq<1,>=0.4.1->langchain_groq) (1.0.5)\n",
      "Requirement already satisfied: h11<0.15,>=0.13 in c:\\users\\pkhobragade\\desktop\\langgraph\\langgraph\\langg\\lib\\site-packages (from httpcore==1.*->httpx<1,>=0.23.0->groq<1,>=0.4.1->langchain_groq) (0.14.0)\n",
      "Requirement already satisfied: jsonpointer>=1.9 in c:\\users\\pkhobragade\\desktop\\langgraph\\langgraph\\langg\\lib\\site-packages (from jsonpatch<2.0,>=1.33->langchain-core<0.3,>=0.2.27->langgraph) (3.0.0)\n",
      "Requirement already satisfied: mypy-extensions>=0.3.0 in c:\\users\\pkhobragade\\desktop\\langgraph\\langgraph\\langg\\lib\\site-packages (from typing-inspect<1,>=0.4.0->dataclasses-json<0.7,>=0.5.7->langchain_community) (1.0.0)\n"
     ]
    }
   ],
   "source": [
    "!pip install langgraph langchain langchain_groq langchain_community"
   ]
  },
  {
   "cell_type": "code",
   "execution_count": 5,
   "metadata": {},
   "outputs": [
    {
     "name": "stdout",
     "output_type": "stream",
     "text": [
      "Collecting arxiv\n",
      "  Downloading arxiv-2.1.3-py3-none-any.whl.metadata (6.1 kB)\n",
      "Collecting wikipedia\n",
      "  Downloading wikipedia-1.4.0.tar.gz (27 kB)\n",
      "  Installing build dependencies: started\n",
      "  Installing build dependencies: finished with status 'done'\n",
      "  Getting requirements to build wheel: started\n",
      "  Getting requirements to build wheel: finished with status 'done'\n",
      "  Preparing metadata (pyproject.toml): started\n",
      "  Preparing metadata (pyproject.toml): finished with status 'done'\n",
      "Collecting feedparser~=6.0.10 (from arxiv)\n",
      "  Downloading feedparser-6.0.11-py3-none-any.whl.metadata (2.4 kB)\n",
      "Requirement already satisfied: requests~=2.32.0 in c:\\users\\pkhobragade\\desktop\\langgraph\\langgraph\\langg\\lib\\site-packages (from arxiv) (2.32.3)\n",
      "Collecting beautifulsoup4 (from wikipedia)\n",
      "  Using cached beautifulsoup4-4.12.3-py3-none-any.whl.metadata (3.8 kB)\n",
      "Collecting sgmllib3k (from feedparser~=6.0.10->arxiv)\n",
      "  Downloading sgmllib3k-1.0.0.tar.gz (5.8 kB)\n",
      "  Installing build dependencies: started\n",
      "  Installing build dependencies: finished with status 'done'\n",
      "  Getting requirements to build wheel: started\n",
      "  Getting requirements to build wheel: finished with status 'done'\n",
      "  Preparing metadata (pyproject.toml): started\n",
      "  Preparing metadata (pyproject.toml): finished with status 'done'\n",
      "Requirement already satisfied: charset-normalizer<4,>=2 in c:\\users\\pkhobragade\\desktop\\langgraph\\langgraph\\langg\\lib\\site-packages (from requests~=2.32.0->arxiv) (3.3.2)\n",
      "Requirement already satisfied: idna<4,>=2.5 in c:\\users\\pkhobragade\\desktop\\langgraph\\langgraph\\langg\\lib\\site-packages (from requests~=2.32.0->arxiv) (3.8)\n",
      "Requirement already satisfied: urllib3<3,>=1.21.1 in c:\\users\\pkhobragade\\desktop\\langgraph\\langgraph\\langg\\lib\\site-packages (from requests~=2.32.0->arxiv) (2.2.2)\n",
      "Requirement already satisfied: certifi>=2017.4.17 in c:\\users\\pkhobragade\\desktop\\langgraph\\langgraph\\langg\\lib\\site-packages (from requests~=2.32.0->arxiv) (2024.7.4)\n",
      "Collecting soupsieve>1.2 (from beautifulsoup4->wikipedia)\n",
      "  Using cached soupsieve-2.6-py3-none-any.whl.metadata (4.6 kB)\n",
      "Downloading arxiv-2.1.3-py3-none-any.whl (11 kB)\n",
      "Downloading feedparser-6.0.11-py3-none-any.whl (81 kB)\n",
      "Using cached beautifulsoup4-4.12.3-py3-none-any.whl (147 kB)\n",
      "Using cached soupsieve-2.6-py3-none-any.whl (36 kB)\n",
      "Building wheels for collected packages: wikipedia, sgmllib3k\n",
      "  Building wheel for wikipedia (pyproject.toml): started\n",
      "  Building wheel for wikipedia (pyproject.toml): finished with status 'done'\n",
      "  Created wheel for wikipedia: filename=wikipedia-1.4.0-py3-none-any.whl size=11706 sha256=e4374ce1644b55806bb13822cf883f6d3fac8105f1668a774b97da13c345b74e\n",
      "  Stored in directory: c:\\users\\pkhobragade\\appdata\\local\\pip\\cache\\wheels\\63\\47\\7c\\a9688349aa74d228ce0a9023229c6c0ac52ca2a40fe87679b8\n",
      "  Building wheel for sgmllib3k (pyproject.toml): started\n",
      "  Building wheel for sgmllib3k (pyproject.toml): finished with status 'done'\n",
      "  Created wheel for sgmllib3k: filename=sgmllib3k-1.0.0-py3-none-any.whl size=6061 sha256=4e21af9ffaa57582faa596aa72d19b4899ac13e8b46357f565f8329ad61643e8\n",
      "  Stored in directory: c:\\users\\pkhobragade\\appdata\\local\\pip\\cache\\wheels\\03\\f5\\1a\\23761066dac1d0e8e683e5fdb27e12de53209d05a4a37e6246\n",
      "Successfully built wikipedia sgmllib3k\n",
      "Installing collected packages: sgmllib3k, soupsieve, feedparser, beautifulsoup4, arxiv, wikipedia\n",
      "Successfully installed arxiv-2.1.3 beautifulsoup4-4.12.3 feedparser-6.0.11 sgmllib3k-1.0.0 soupsieve-2.6 wikipedia-1.4.0\n"
     ]
    }
   ],
   "source": [
    "!pip install arxiv wikipedia"
   ]
  },
  {
   "cell_type": "code",
   "execution_count": 38,
   "metadata": {},
   "outputs": [],
   "source": [
    "from typing import Annotated\n",
    "from typing_extensions import TypedDict"
   ]
  },
  {
   "cell_type": "code",
   "execution_count": 39,
   "metadata": {},
   "outputs": [],
   "source": [
    "## Working With Tools\n",
    "\n",
    "from langchain_community.utilities import ArxivAPIWrapper,WikipediaAPIWrapper\n",
    "from langchain_community.tools import ArxivQueryRun,WikipediaQueryRun\n",
    "\n",
    "## Arxiv tool\n",
    "arxiv_wrapp = ArxivAPIWrapper(top_k_results=1, doc_content_chars_max=500)\n",
    "arxiv_tool = ArxivQueryRun(api_wrapper=arxiv_wrapp)\n",
    "\n",
    "#wikitool\n",
    "\n",
    "wiki_wrapp = WikipediaAPIWrapper(top_k_results=1, doc_content_chars_max=500)\n",
    "wiki_tool = WikipediaQueryRun(api_wrapper=wiki_wrapp)"
   ]
  },
  {
   "cell_type": "code",
   "execution_count": 40,
   "metadata": {},
   "outputs": [
    {
     "data": {
      "text/plain": [
       "'Page: Prashant Kishor\\nSummary: Prashant Kishor Pandey, colloquially known as PK, is an Indian political strategist and tactician. He worked in public health programmes funded by the United Nations for eight years before venturing into Indian politics and working as a political strategist.\\nKishor has worked as a political  strategist for BJP to gain his knowledge then he worked for the BJP, JD(U), INC, AAP, YSRCP, DMK and TMC. His first major political campaign was in 2011 to help Narendra Modi, '"
      ]
     },
     "execution_count": 40,
     "metadata": {},
     "output_type": "execute_result"
    }
   ],
   "source": [
    "wiki_tool.invoke(\"who is prashant\")"
   ]
  },
  {
   "cell_type": "code",
   "execution_count": 41,
   "metadata": {},
   "outputs": [
    {
     "data": {
      "text/plain": [
       "\"Published: 2024-08-27\\nTitle: LLM Defenses Are Not Robust to Multi-Turn Human Jailbreaks Yet\\nAuthors: Nathaniel Li, Ziwen Han, Ian Steneker, Willow Primack, Riley Goodside, Hugh Zhang, Zifan Wang, Cristina Menghini, Summer Yue\\nSummary: Recent large language model (LLM) defenses have greatly improved models'\\nability to refuse harmful queries, even when adversarially attacked. However,\\nLLM defenses are primarily evaluated against automated adversarial attacks in a\\nsingle turn of conversation, an in\""
      ]
     },
     "execution_count": 41,
     "metadata": {},
     "output_type": "execute_result"
    }
   ],
   "source": [
    "arxiv_tool.invoke(\"LLM Defenses Are Not Robust to Multi-Turn Human Jailbreaks Yet\")"
   ]
  },
  {
   "cell_type": "code",
   "execution_count": 42,
   "metadata": {},
   "outputs": [],
   "source": [
    "tools = [wiki_tool]"
   ]
  },
  {
   "cell_type": "code",
   "execution_count": 43,
   "metadata": {},
   "outputs": [],
   "source": [
    "## Langgraph\n",
    "\n",
    "from langgraph.graph.message import add_messages\n",
    "\n",
    "class State(TypedDict):\n",
    "    messages: Annotated[list, add_messages]"
   ]
  },
  {
   "cell_type": "code",
   "execution_count": 44,
   "metadata": {},
   "outputs": [],
   "source": [
    "from langgraph.graph import StateGraph, START, END\n",
    "\n",
    "graph_builder = StateGraph(State)"
   ]
  },
  {
   "cell_type": "code",
   "execution_count": 45,
   "metadata": {},
   "outputs": [],
   "source": [
    "##LLM\n",
    "\n",
    "import os \n",
    "from dotenv import load_dotenv\n",
    "\n",
    "load_dotenv()\n",
    "\n",
    "GROQ_API_KEY = os.getenv(\"GROQ_API_KEY\")\n",
    "\n",
    "from langchain_groq import ChatGroq\n",
    "\n",
    "llm = ChatGroq(model = \"llama-3.1-8b-instant\",\n",
    "            temperature=0.0,\n",
    "            groq_api_key = GROQ_API_KEY)\n"
   ]
  },
  {
   "cell_type": "code",
   "execution_count": 46,
   "metadata": {},
   "outputs": [],
   "source": [
    "llm_with_tools = llm.bind_tools(tools=tools)"
   ]
  },
  {
   "cell_type": "code",
   "execution_count": 47,
   "metadata": {},
   "outputs": [],
   "source": [
    "def chatbot(state:State):\n",
    "    return {\"messages\":[llm_with_tools.invoke(state['messages'])]}"
   ]
  },
  {
   "cell_type": "code",
   "execution_count": 48,
   "metadata": {},
   "outputs": [],
   "source": [
    "from langgraph.prebuilt import ToolNode, tools_condition"
   ]
  },
  {
   "cell_type": "code",
   "execution_count": 49,
   "metadata": {},
   "outputs": [],
   "source": [
    "graph_builder.add_node(\"chatbot\", chatbot)\n",
    "tool_node = ToolNode(tools=tools)\n",
    "graph_builder.add_node(\"tools\", tool_node)\n",
    "\n",
    "graph_builder.add_conditional_edges(\"chatbot\", tools_condition)\n",
    "\n",
    "graph_builder.add_edge(\"tools\", \"chatbot\")\n",
    "graph_builder.add_edge(START, \"chatbot\")"
   ]
  },
  {
   "cell_type": "code",
   "execution_count": 50,
   "metadata": {},
   "outputs": [],
   "source": [
    "graph = graph_builder.compile()"
   ]
  },
  {
   "cell_type": "code",
   "execution_count": 51,
   "metadata": {},
   "outputs": [
    {
     "data": {
      "image/jpeg": "[encoded data removed]",
      "text/plain": [
       "<IPython.core.display.Image object>"
      ]
     },
     "metadata": {},
     "output_type": "display_data"
    }
   ],
   "source": [
    "from IPython.display import Image, display\n",
    "\n",
    "try:\n",
    "    display(Image(graph.get_graph().draw_mermaid_png()))\n",
    "except Exception:\n",
    "    # This requires some extra dependencies and is optional\n",
    "    pass"
   ]
  },
  {
   "cell_type": "code",
   "execution_count": 52,
   "metadata": {},
   "outputs": [
    {
     "name": "stdout",
     "output_type": "stream",
     "text": [
      "================================\u001b[1m Human Message \u001b[0m=================================\n",
      "\n",
      "Hi there!, My name is John\n",
      "==================================\u001b[1m Ai Message \u001b[0m==================================\n",
      "\n",
      "Hello John, it's nice to meet you. Is there anything I can help you with today?\n"
     ]
    }
   ],
   "source": [
    "user_input=\"Hi there!, My name is John\"\n",
    "\n",
    "events=graph.stream(\n",
    "    {\"messages\": [(\"user\", user_input)]},stream_mode=\"values\"\n",
    ")\n",
    "\n",
    "for event in events:\n",
    "    event[\"messages\"][-1].pretty_print()"
   ]
  },
  {
   "cell_type": "code",
   "execution_count": 53,
   "metadata": {},
   "outputs": [
    {
     "name": "stdout",
     "output_type": "stream",
     "text": [
      "================================\u001b[1m Human Message \u001b[0m=================================\n",
      "\n",
      "Who is Jaun Elia\n",
      "==================================\u001b[1m Ai Message \u001b[0m==================================\n",
      "Tool Calls:\n",
      "  wikipedia (call_9rvr)\n",
      " Call ID: call_9rvr\n",
      "  Args:\n",
      "    query: Juan Elia\n",
      "=================================\u001b[1m Tool Message \u001b[0m=================================\n",
      "Name: wikipedia\n",
      "\n",
      "Page: Juan Elía\n",
      "Summary: Juan 'Juantxo' Elía Vallejo (born 24 January 1979) is a Spanish former professional footballer who played as a goalkeeper.\n",
      "==================================\u001b[1m Ai Message \u001b[0m==================================\n",
      "Tool Calls:\n",
      "  wikipedia (call_frhp)\n",
      " Call ID: call_frhp\n",
      "  Args:\n",
      "    query: Juan Elia\n",
      "=================================\u001b[1m Tool Message \u001b[0m=================================\n",
      "Name: wikipedia\n",
      "\n",
      "Page: Juan Elía\n",
      "Summary: Juan 'Juantxo' Elía Vallejo (born 24 January 1979) is a Spanish former professional footballer who played as a goalkeeper.\n",
      "==================================\u001b[1m Ai Message \u001b[0m==================================\n",
      "Tool Calls:\n",
      "  wikipedia (call_pfrv)\n",
      " Call ID: call_pfrv\n",
      "  Args:\n",
      "    query: Juan Elia writer\n",
      "=================================\u001b[1m Tool Message \u001b[0m=================================\n",
      "Name: wikipedia\n",
      "\n",
      "Page: Elia Barceló\n",
      "Summary: Elia Barceló or Elia Eisterer-Barceló (born 29 January 1957) is a Spanish academic and author who lives in Austria.\n",
      "==================================\u001b[1m Ai Message \u001b[0m==================================\n",
      "Tool Calls:\n",
      "  wikipedia (call_vc5k)\n",
      " Call ID: call_vc5k\n",
      "  Args:\n",
      "    query: Juan Elia writer\n",
      "=================================\u001b[1m Tool Message \u001b[0m=================================\n",
      "Name: wikipedia\n",
      "\n",
      "Page: Elia Barceló\n",
      "Summary: Elia Barceló or Elia Eisterer-Barceló (born 29 January 1957) is a Spanish academic and author who lives in Austria.\n",
      "==================================\u001b[1m Ai Message \u001b[0m==================================\n",
      "Tool Calls:\n",
      "  wikipedia (call_5qjh)\n",
      " Call ID: call_5qjh\n",
      "  Args:\n",
      "    query: Juan Elia poet\n",
      "=================================\u001b[1m Tool Message \u001b[0m=================================\n",
      "Name: wikipedia\n",
      "\n",
      "Page: Juan Antonio Corretjer\n",
      "Summary: Juan Antonio Corretjer Montes (March 3, 1908 – January 19, 1985) was a Puerto Rican poet, journalist and pro-independence political activist opposing United States rule in Puerto Rico.\n",
      "\n",
      "\n",
      "==================================\u001b[1m Ai Message \u001b[0m==================================\n",
      "Tool Calls:\n",
      "  wikipedia (call_ttqm)\n",
      " Call ID: call_ttqm\n",
      "  Args:\n",
      "    query: Juan Elia poet\n",
      "=================================\u001b[1m Tool Message \u001b[0m=================================\n",
      "Name: wikipedia\n",
      "\n",
      "Page: Juan Antonio Corretjer\n",
      "Summary: Juan Antonio Corretjer Montes (March 3, 1908 – January 19, 1985) was a Puerto Rican poet, journalist and pro-independence political activist opposing United States rule in Puerto Rico.\n",
      "\n",
      "\n",
      "==================================\u001b[1m Ai Message \u001b[0m==================================\n",
      "Tool Calls:\n",
      "  wikipedia (call_w442)\n",
      " Call ID: call_w442\n",
      "  Args:\n",
      "    query: Juan Elia\n",
      "=================================\u001b[1m Tool Message \u001b[0m=================================\n",
      "Name: wikipedia\n",
      "\n",
      "Page: Juan Elía\n",
      "Summary: Juan 'Juantxo' Elía Vallejo (born 24 January 1979) is a Spanish former professional footballer who played as a goalkeeper.\n",
      "==================================\u001b[1m Ai Message \u001b[0m==================================\n",
      "\n",
      "It appears that there are multiple individuals with the name Juan Elia. The first one is a Spanish former professional footballer, the second one is a Spanish academic and author, and the third one is a Puerto Rican poet, journalist and pro-independence political activist.\n"
     ]
    }
   ],
   "source": [
    "user_input=\"Who is Jaun Elia\"\n",
    "\n",
    "events=graph.stream(\n",
    "    {\"messages\": [(\"user\", user_input)]},stream_mode=\"values\"\n",
    ")\n",
    "\n",
    "for event in events:\n",
    "    event[\"messages\"][-1].pretty_print()"
   ]
  },
  {
   "cell_type": "code",
   "execution_count": 55,
   "metadata": {},
   "outputs": [
    {
     "name": "stdout",
     "output_type": "stream",
     "text": [
      "================================\u001b[1m Human Message \u001b[0m=================================\n",
      "\n",
      "give me 4 lines of poem written by Syed Sibt-e-Asghar Naqvi\n",
      "==================================\u001b[1m Ai Message \u001b[0m==================================\n",
      "Tool Calls:\n",
      "  wikipedia (call_8wgp)\n",
      " Call ID: call_8wgp\n",
      "  Args:\n",
      "    query: Syed Sibt-e-Asghar Naqvi poem\n",
      "=================================\u001b[1m Tool Message \u001b[0m=================================\n",
      "Name: wikipedia\n",
      "\n",
      "Page: Jaun Elia\n",
      "Summary: Syed Sibt-e-Asghar Naqvi, commonly known by his pen-name Jaun Elia (Urdu: جون ایلیا, 14 December 1931 – 8 November 2002), was a Pakistani poet, philosopher, biographer and scholar.\n",
      "One of the most prominent modern Urdu poets, popular for his unconventional ways, he \"acquired knowledge of philosophy, logic, Islamic history, the Muslim Sufi tradition, Muslim religious sciences, Western literature, and Kabbala\". He was fluent in Urdu, Arabic, Sindhi, English, Persian, Sansk\n",
      "==================================\u001b[1m Ai Message \u001b[0m==================================\n",
      "Tool Calls:\n",
      "  wikipedia (call_rzyk)\n",
      " Call ID: call_rzyk\n",
      "  Args:\n",
      "    query: Syed Sibt-e-Asghar Naqvi\n",
      "  wikipedia (call_hyzz)\n",
      " Call ID: call_hyzz\n",
      "  Args:\n",
      "    query: Syed Sibt-e-Asghar Naqvi poetry\n",
      "  wikipedia (call_s8sb)\n",
      " Call ID: call_s8sb\n",
      "  Args:\n",
      "    query: Syed Sibt-e-Asghar Naqvi quotes\n",
      "  wikipedia (call_zf1x)\n",
      " Call ID: call_zf1x\n",
      "  Args:\n",
      "    query: Syed Sibt-e-Asghar Naqvi biography\n",
      "=================================\u001b[1m Tool Message \u001b[0m=================================\n",
      "Name: wikipedia\n",
      "\n",
      "Page: Jaun Elia\n",
      "Summary: Syed Sibt-e-Asghar Naqvi, commonly known by his pen-name Jaun Elia (Urdu: جون ایلیا, 14 December 1931 – 8 November 2002), was a Pakistani poet, philosopher, biographer and scholar.\n",
      "One of the most prominent modern Urdu poets, popular for his unconventional ways, he \"acquired knowledge of philosophy, logic, Islamic history, the Muslim Sufi tradition, Muslim religious sciences, Western literature, and Kabbala\". He was fluent in Urdu, Arabic, Sindhi, English, Persian, Sansk\n",
      "==================================\u001b[1m Ai Message \u001b[0m==================================\n",
      "\n",
      "I was unable to find any information about a poem written by Syed Sibt-e-Asghar Naqvi.\n"
     ]
    }
   ],
   "source": [
    "\n",
    "user_input=\"give me 4 lines of poem written by Syed Sibt-e-Asghar Naqvi\"\n",
    "\n",
    "events=graph.stream(\n",
    "    {\"messages\": [(\"user\", user_input)]},stream_mode=\"values\"\n",
    ")\n",
    "\n",
    "for event in events:\n",
    "    event[\"messages\"][-1].pretty_print()"
   ]
  },
  {
   "cell_type": "code",
   "execution_count": 56,
   "metadata": {},
   "outputs": [
    {
     "name": "stdout",
     "output_type": "stream",
     "text": [
      "================================\u001b[1m Human Message \u001b[0m=================================\n",
      "\n",
      "give me the timeline of vietnam war\n",
      "==================================\u001b[1m Ai Message \u001b[0m==================================\n",
      "Tool Calls:\n",
      "  wikipedia (call_7r7n)\n",
      " Call ID: call_7r7n\n",
      "  Args:\n",
      "    query: Vietnam War timeline\n",
      "=================================\u001b[1m Tool Message \u001b[0m=================================\n",
      "Name: wikipedia\n",
      "\n",
      "Page: Vietnam War\n",
      "Summary: The Vietnam War was a conflict in Vietnam, Laos, and Cambodia from 1 November 1955 to the fall of Saigon on 30 April 1975. It was the second of the Indochina Wars and a major conflict of the Cold War. While the war was officially fought between North Vietnam and South Vietnam, the north was supported by the Soviet Union, China, and other countries in the Eastern Bloc, while the south was supported by the US and anti-communist allies. This made it a proxy war between th\n",
      "==================================\u001b[1m Ai Message \u001b[0m==================================\n",
      "Tool Calls:\n",
      "  wikipedia (call_eame)\n",
      " Call ID: call_eame\n",
      "  Args:\n",
      "    query: Vietnam War causes\n",
      "=================================\u001b[1m Tool Message \u001b[0m=================================\n",
      "Name: wikipedia\n",
      "\n",
      "Page: Vietnam War\n",
      "Summary: The Vietnam War was a conflict in Vietnam, Laos, and Cambodia from 1 November 1955 to the fall of Saigon on 30 April 1975. It was the second of the Indochina Wars and a major conflict of the Cold War. While the war was officially fought between North Vietnam and South Vietnam, the north was supported by the Soviet Union, China, and other countries in the Eastern Bloc, while the south was supported by the US and anti-communist allies. This made it a proxy war between th\n",
      "==================================\u001b[1m Ai Message \u001b[0m==================================\n",
      "Tool Calls:\n",
      "  wikipedia (call_405z)\n",
      " Call ID: call_405z\n",
      "  Args:\n",
      "    query: Vietnam War major battles\n",
      "=================================\u001b[1m Tool Message \u001b[0m=================================\n",
      "Name: wikipedia\n",
      "\n",
      "Page: Vietnam War\n",
      "Summary: The Vietnam War was a conflict in Vietnam, Laos, and Cambodia from 1 November 1955 to the fall of Saigon on 30 April 1975. It was the second of the Indochina Wars and a major conflict of the Cold War. While the war was officially fought between North Vietnam and South Vietnam, the north was supported by the Soviet Union, China, and other countries in the Eastern Bloc, while the south was supported by the US and anti-communist allies. This made it a proxy war between th\n",
      "==================================\u001b[1m Ai Message \u001b[0m==================================\n",
      "Tool Calls:\n",
      "  wikipedia (call_xqye)\n",
      " Call ID: call_xqye\n",
      "  Args:\n",
      "    query: Vietnam War end\n",
      "=================================\u001b[1m Tool Message \u001b[0m=================================\n",
      "Name: wikipedia\n",
      "\n",
      "Page: Vietnam War\n",
      "Summary: The Vietnam War was a conflict in Vietnam, Laos, and Cambodia from 1 November 1955 to the fall of Saigon on 30 April 1975. It was the second of the Indochina Wars and a major conflict of the Cold War. While the war was officially fought between North Vietnam and South Vietnam, the north was supported by the Soviet Union, China, and other countries in the Eastern Bloc, while the south was supported by the US and anti-communist allies. This made it a proxy war between th\n",
      "==================================\u001b[1m Ai Message \u001b[0m==================================\n",
      "\n",
      "The timeline of the Vietnam War is as follows:\n",
      "\n",
      "- 1 November 1955: The Vietnam War begins.\n",
      "- 1959: The North Vietnamese begin to infiltrate the South.\n",
      "- 1960: The National Front for the Liberation of South Vietnam (NLF) is formed.\n",
      "- 1962: The US begins to send military advisers to South Vietnam.\n",
      "- 1964: The Gulf of Tonkin incident occurs, leading to the US escalation of involvement in the war.\n",
      "- 1965: The US begins to send ground troops to South Vietnam.\n",
      "- 1968: The Tet Offensive occurs, a major turning point in the war.\n",
      "- 1969: The US begins to withdraw troops from South Vietnam.\n",
      "- 1973: The Paris Peace Accords are signed, officially ending US involvement in the war.\n",
      "- 1975: North Vietnamese forces capture Saigon, the capital of South Vietnam, and reunify the country under communist rule.\n",
      "\n",
      "The major causes of the Vietnam War include:\n",
      "\n",
      "- The division of Vietnam after World War II, with the North being communist and the South being anti-communist.\n",
      "- The US fear of communist expansion in Southeast Asia.\n",
      "- The Gulf of Tonkin incident, which led to the US escalation of involvement in the war.\n",
      "- The North Vietnamese desire for reunification under communist rule.\n",
      "\n",
      "The major battles of the Vietnam War include:\n",
      "\n",
      "- The Battle of Ia Drang (1965), the first major conflict between US forces and the North Vietnamese Army.\n",
      "- The Battle of Khe Sanh (1968), a 77-day siege of a US Marine base by the North Vietnamese Army.\n",
      "- The Tet Offensive (1968), a series of attacks by the NLF and North Vietnamese Army on cities and towns across South Vietnam.\n",
      "- The Battle of Hue (1968), a 26-day battle for the city of Hue, which was a major turning point in the war.\n",
      "\n",
      "The end of the Vietnam War came in 1975, when North Vietnamese forces captured Saigon, the capital of South Vietnam, and reunified the country under communist rule. The Paris Peace Accords, signed in 1973, officially ended US involvement in the war, but the fighting continued until the fall of Saigon.\n"
     ]
    }
   ],
   "source": [
    "user_input=\"give me the timeline of vietnam war\"\n",
    "\n",
    "events=graph.stream(\n",
    "    {\"messages\": [(\"user\", user_input)]},stream_mode=\"values\"\n",
    ")\n",
    "\n",
    "for event in events:\n",
    "    event[\"messages\"][-1].pretty_print()"
   ]
  },
  {
   "cell_type": "code",
   "execution_count": 57,
   "metadata": {},
   "outputs": [
    {
     "name": "stdout",
     "output_type": "stream",
     "text": [
      "================================\u001b[1m Human Message \u001b[0m=================================\n",
      "\n",
      "what are the major events happned in vietnam war\n",
      "==================================\u001b[1m Ai Message \u001b[0m==================================\n",
      "Tool Calls:\n",
      "  wikipedia (call_km84)\n",
      " Call ID: call_km84\n",
      "  Args:\n",
      "    query: Major events of the Vietnam War\n",
      "=================================\u001b[1m Tool Message \u001b[0m=================================\n",
      "Name: wikipedia\n",
      "\n",
      "Page: Vietnam War\n",
      "Summary: The Vietnam War was a conflict in Vietnam, Laos, and Cambodia from 1 November 1955 to the fall of Saigon on 30 April 1975. It was the second of the Indochina Wars and a major conflict of the Cold War. While the war was officially fought between North Vietnam and South Vietnam, the north was supported by the Soviet Union, China, and other countries in the Eastern Bloc, while the south was supported by the US and anti-communist allies. This made it a proxy war between th\n",
      "==================================\u001b[1m Ai Message \u001b[0m==================================\n",
      "Tool Calls:\n",
      "  wikipedia (call_s9xs)\n",
      " Call ID: call_s9xs\n",
      "  Args:\n",
      "    query: Timeline of the Vietnam War\n",
      "=================================\u001b[1m Tool Message \u001b[0m=================================\n",
      "Name: wikipedia\n",
      "\n",
      "Page: Vietnam War\n",
      "Summary: The Vietnam War was a conflict in Vietnam, Laos, and Cambodia from 1 November 1955 to the fall of Saigon on 30 April 1975. It was the second of the Indochina Wars and a major conflict of the Cold War. While the war was officially fought between North Vietnam and South Vietnam, the north was supported by the Soviet Union, China, and other countries in the Eastern Bloc, while the south was supported by the US and anti-communist allies. This made it a proxy war between th\n",
      "==================================\u001b[1m Ai Message \u001b[0m==================================\n",
      "\n",
      "The major events of the Vietnam War include:\n",
      "\n",
      "1. The Gulf of Tonkin incident (August 1964): A naval clash between North Vietnamese torpedo boats and the United States Navy, which led to the escalation of U.S. involvement in the war.\n",
      "2. The Tet Offensive (January 1968): A surprise attack by the North Vietnamese Army and the Viet Cong on cities and towns in South Vietnam, which marked a turning point in the war.\n",
      "3. The My Lai Massacre (March 1968): A massacre of Vietnamese civilians by U.S. soldiers, which became a symbol of the war's brutality and the U.S. military's atrocities.\n",
      "4. The Battle of Hue (January-February 1968): A 26-day battle between U.S. and South Vietnamese forces and the North Vietnamese Army for control of the city of Hue.\n",
      "5. The Battle of Khe Sanh (January-July 1968): A 77-day battle between U.S. and South Vietnamese forces and the North Vietnamese Army for control of the Khe Sanh Combat Base.\n",
      "6. The Paris Peace Talks (January 1968-May 1973): A series of negotiations between the United States, North Vietnam, and South Vietnam to end the war, which resulted in the signing of the Paris Peace Accords.\n",
      "7. The Fall of Saigon (April 1975): The capture of Saigon, the capital of South Vietnam, by North Vietnamese forces, which marked the end of the Vietnam War.\n",
      "\n",
      "These events, among others, played a significant role in shaping the course of the Vietnam War and its outcome.\n"
     ]
    }
   ],
   "source": [
    "user_input=\"what are the major events happned in vietnam war\"\n",
    "\n",
    "events=graph.stream(\n",
    "    {\"messages\": [(\"user\", user_input)]},stream_mode=\"values\"\n",
    ")\n",
    "\n",
    "for event in events:\n",
    "    event[\"messages\"][-1].pretty_print()"
   ]
  },
  {
   "cell_type": "code",
   "execution_count": 58,
   "metadata": {},
   "outputs": [
    {
     "name": "stdout",
     "output_type": "stream",
     "text": [
      "================================\u001b[1m Human Message \u001b[0m=================================\n",
      "\n",
      "what is project 75 alpha\n",
      "==================================\u001b[1m Ai Message \u001b[0m==================================\n",
      "Tool Calls:\n",
      "  wikipedia (call_09rt)\n",
      " Call ID: call_09rt\n",
      "  Args:\n",
      "    query: Project 75 Alpha\n",
      "=================================\u001b[1m Tool Message \u001b[0m=================================\n",
      "Name: wikipedia\n",
      "\n",
      "Page: Project 75 Alpha\n",
      "Summary: Project 75 Alpha (also referred to as Project 77) is a programme of the Indian Navy which aims to procure new nuclear-powered attack submarines. The Government of India (CCS) approved the construction of six of such submarines in February 2015. These will be designed by the Navy's in-house Directorate of Naval Design (now Warship Design Bureau) and built in India at the Shipbuilding Centre at Visakhapatnam. The construction was expected to commence on 2023-24 whil\n",
      "==================================\u001b[1m Ai Message \u001b[0m==================================\n",
      "Tool Calls:\n",
      "  wikipedia (call_avk1)\n",
      " Call ID: call_avk1\n",
      "  Args:\n",
      "    query: Project 75 Alpha submarine design\n",
      "=================================\u001b[1m Tool Message \u001b[0m=================================\n",
      "Name: wikipedia\n",
      "\n",
      "Page: Project 75 Alpha\n",
      "Summary: Project 75 Alpha (also referred to as Project 77) is a programme of the Indian Navy which aims to procure new nuclear-powered attack submarines. The Government of India (CCS) approved the construction of six of such submarines in February 2015. These will be designed by the Navy's in-house Directorate of Naval Design (now Warship Design Bureau) and built in India at the Shipbuilding Centre at Visakhapatnam. The construction was expected to commence on 2023-24 whil\n",
      "==================================\u001b[1m Ai Message \u001b[0m==================================\n",
      "Tool Calls:\n",
      "  wikipedia (call_bybb)\n",
      " Call ID: call_bybb\n",
      "  Args:\n",
      "    query: Project 75 Alpha submarine timeline\n",
      "=================================\u001b[1m Tool Message \u001b[0m=================================\n",
      "Name: wikipedia\n",
      "\n",
      "Page: Nuclear submarine\n",
      "Summary: A nuclear submarine is a submarine powered by a nuclear reactor, but not necessarily nuclear-armed. Nuclear submarines have considerable performance advantages over \"conventional\" (typically diesel-electric) submarines.  Nuclear propulsion, being completely independent of air, frees the submarine from the need to surface frequently, as is necessary for conventional submarines. The large amount of power generated by a nuclear reactor allows nuclear submarines to o\n",
      "==================================\u001b[1m Ai Message \u001b[0m==================================\n",
      "\n",
      "The information provided by the Wikipedia function calls does not give a clear answer to the question.\n"
     ]
    }
   ],
   "source": [
    "user_input=\"what is project 75 alpha\"\n",
    "\n",
    "events=graph.stream(\n",
    "    {\"messages\": [(\"user\", user_input)]},stream_mode=\"values\"\n",
    ")\n",
    "\n",
    "for event in events:\n",
    "    event[\"messages\"][-1].pretty_print()"
   ]
  },
  {
   "cell_type": "code",
   "execution_count": null,
   "metadata": {},
   "outputs": [],
   "source": []
  }
 ],
 "metadata": {
  "kernelspec": {
   "display_name": "langg",
   "language": "python",
   "name": "python3"
  },
  "language_info": {
   "codemirror_mode": {
    "name": "ipython",
    "version": 3
   },
   "file_extension": ".py",
   "mimetype": "text/x-python",
   "name": "python",
   "nbconvert_exporter": "python",
   "pygments_lexer": "ipython3",
   "version": "3.12.2"
  }
 },
 "nbformat": 4,
 "nbformat_minor": 2
}
