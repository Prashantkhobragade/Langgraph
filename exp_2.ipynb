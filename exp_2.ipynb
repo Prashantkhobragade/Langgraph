{
 "cells": [
  {
   "cell_type": "code",
   "execution_count": 3,
   "metadata": {},
   "outputs": [
    {
     "name": "stdout",
     "output_type": "stream",
     "text": [
      "Requirement already satisfied: langgraph in c:\\users\\pkhobragade\\desktop\\langgraph\\langgraph\\langg\\lib\\site-packages (0.2.14)\n",
      "Requirement already satisfied: langchain in c:\\users\\pkhobragade\\desktop\\langgraph\\langgraph\\langg\\lib\\site-packages (0.2.14)\n",
      "Requirement already satisfied: langchain_groq in c:\\users\\pkhobragade\\desktop\\langgraph\\langgraph\\langg\\lib\\site-packages (0.1.9)\n",
      "Requirement already satisfied: langchain_community in c:\\users\\pkhobragade\\desktop\\langgraph\\langgraph\\langg\\lib\\site-packages (0.2.12)\n",
      "Requirement already satisfied: langchain-core<0.3,>=0.2.27 in c:\\users\\pkhobragade\\desktop\\langgraph\\langgraph\\langg\\lib\\site-packages (from langgraph) (0.2.35)\n",
      "Requirement already satisfied: langgraph-checkpoint<2.0.0,>=1.0.2 in c:\\users\\pkhobragade\\desktop\\langgraph\\langgraph\\langg\\lib\\site-packages (from langgraph) (1.0.6)\n",
      "Requirement already satisfied: PyYAML>=5.3 in c:\\users\\pkhobragade\\desktop\\langgraph\\langgraph\\langg\\lib\\site-packages (from langchain) (6.0.2)\n",
      "Requirement already satisfied: SQLAlchemy<3,>=1.4 in c:\\users\\pkhobragade\\desktop\\langgraph\\langgraph\\langg\\lib\\site-packages (from langchain) (2.0.32)\n",
      "Requirement already satisfied: aiohttp<4.0.0,>=3.8.3 in c:\\users\\pkhobragade\\desktop\\langgraph\\langgraph\\langg\\lib\\site-packages (from langchain) (3.10.5)\n",
      "Requirement already satisfied: langchain-text-splitters<0.3.0,>=0.2.0 in c:\\users\\pkhobragade\\desktop\\langgraph\\langgraph\\langg\\lib\\site-packages (from langchain) (0.2.2)\n",
      "Requirement already satisfied: langsmith<0.2.0,>=0.1.17 in c:\\users\\pkhobragade\\desktop\\langgraph\\langgraph\\langg\\lib\\site-packages (from langchain) (0.1.104)\n",
      "Requirement already satisfied: numpy<2.0.0,>=1.26.0 in c:\\users\\pkhobragade\\desktop\\langgraph\\langgraph\\langg\\lib\\site-packages (from langchain) (1.26.4)\n",
      "Requirement already satisfied: pydantic<3,>=1 in c:\\users\\pkhobragade\\desktop\\langgraph\\langgraph\\langg\\lib\\site-packages (from langchain) (2.8.2)\n",
      "Requirement already satisfied: requests<3,>=2 in c:\\users\\pkhobragade\\desktop\\langgraph\\langgraph\\langg\\lib\\site-packages (from langchain) (2.32.3)\n",
      "Requirement already satisfied: tenacity!=8.4.0,<9.0.0,>=8.1.0 in c:\\users\\pkhobragade\\desktop\\langgraph\\langgraph\\langg\\lib\\site-packages (from langchain) (8.5.0)\n",
      "Requirement already satisfied: groq<1,>=0.4.1 in c:\\users\\pkhobragade\\desktop\\langgraph\\langgraph\\langg\\lib\\site-packages (from langchain_groq) (0.9.0)\n",
      "Requirement already satisfied: dataclasses-json<0.7,>=0.5.7 in c:\\users\\pkhobragade\\desktop\\langgraph\\langgraph\\langg\\lib\\site-packages (from langchain_community) (0.6.7)\n",
      "Requirement already satisfied: aiohappyeyeballs>=2.3.0 in c:\\users\\pkhobragade\\desktop\\langgraph\\langgraph\\langg\\lib\\site-packages (from aiohttp<4.0.0,>=3.8.3->langchain) (2.4.0)\n",
      "Requirement already satisfied: aiosignal>=1.1.2 in c:\\users\\pkhobragade\\desktop\\langgraph\\langgraph\\langg\\lib\\site-packages (from aiohttp<4.0.0,>=3.8.3->langchain) (1.3.1)\n",
      "Requirement already satisfied: attrs>=17.3.0 in c:\\users\\pkhobragade\\desktop\\langgraph\\langgraph\\langg\\lib\\site-packages (from aiohttp<4.0.0,>=3.8.3->langchain) (24.2.0)\n",
      "Requirement already satisfied: frozenlist>=1.1.1 in c:\\users\\pkhobragade\\desktop\\langgraph\\langgraph\\langg\\lib\\site-packages (from aiohttp<4.0.0,>=3.8.3->langchain) (1.4.1)\n",
      "Requirement already satisfied: multidict<7.0,>=4.5 in c:\\users\\pkhobragade\\desktop\\langgraph\\langgraph\\langg\\lib\\site-packages (from aiohttp<4.0.0,>=3.8.3->langchain) (6.0.5)\n",
      "Requirement already satisfied: yarl<2.0,>=1.0 in c:\\users\\pkhobragade\\desktop\\langgraph\\langgraph\\langg\\lib\\site-packages (from aiohttp<4.0.0,>=3.8.3->langchain) (1.9.4)\n",
      "Requirement already satisfied: marshmallow<4.0.0,>=3.18.0 in c:\\users\\pkhobragade\\desktop\\langgraph\\langgraph\\langg\\lib\\site-packages (from dataclasses-json<0.7,>=0.5.7->langchain_community) (3.22.0)\n",
      "Requirement already satisfied: typing-inspect<1,>=0.4.0 in c:\\users\\pkhobragade\\desktop\\langgraph\\langgraph\\langg\\lib\\site-packages (from dataclasses-json<0.7,>=0.5.7->langchain_community) (0.9.0)\n",
      "Requirement already satisfied: anyio<5,>=3.5.0 in c:\\users\\pkhobragade\\desktop\\langgraph\\langgraph\\langg\\lib\\site-packages (from groq<1,>=0.4.1->langchain_groq) (4.4.0)\n",
      "Requirement already satisfied: distro<2,>=1.7.0 in c:\\users\\pkhobragade\\desktop\\langgraph\\langgraph\\langg\\lib\\site-packages (from groq<1,>=0.4.1->langchain_groq) (1.9.0)\n",
      "Requirement already satisfied: httpx<1,>=0.23.0 in c:\\users\\pkhobragade\\desktop\\langgraph\\langgraph\\langg\\lib\\site-packages (from groq<1,>=0.4.1->langchain_groq) (0.27.0)\n",
      "Requirement already satisfied: sniffio in c:\\users\\pkhobragade\\desktop\\langgraph\\langgraph\\langg\\lib\\site-packages (from groq<1,>=0.4.1->langchain_groq) (1.3.1)\n",
      "Requirement already satisfied: typing-extensions<5,>=4.7 in c:\\users\\pkhobragade\\desktop\\langgraph\\langgraph\\langg\\lib\\site-packages (from groq<1,>=0.4.1->langchain_groq) (4.12.2)\n",
      "Requirement already satisfied: jsonpatch<2.0,>=1.33 in c:\\users\\pkhobragade\\desktop\\langgraph\\langgraph\\langg\\lib\\site-packages (from langchain-core<0.3,>=0.2.27->langgraph) (1.33)\n",
      "Requirement already satisfied: packaging<25,>=23.2 in c:\\users\\pkhobragade\\desktop\\langgraph\\langgraph\\langg\\lib\\site-packages (from langchain-core<0.3,>=0.2.27->langgraph) (24.1)\n",
      "Requirement already satisfied: orjson<4.0.0,>=3.9.14 in c:\\users\\pkhobragade\\desktop\\langgraph\\langgraph\\langg\\lib\\site-packages (from langsmith<0.2.0,>=0.1.17->langchain) (3.10.7)\n",
      "Requirement already satisfied: annotated-types>=0.4.0 in c:\\users\\pkhobragade\\desktop\\langgraph\\langgraph\\langg\\lib\\site-packages (from pydantic<3,>=1->langchain) (0.7.0)\n",
      "Requirement already satisfied: pydantic-core==2.20.1 in c:\\users\\pkhobragade\\desktop\\langgraph\\langgraph\\langg\\lib\\site-packages (from pydantic<3,>=1->langchain) (2.20.1)\n",
      "Requirement already satisfied: charset-normalizer<4,>=2 in c:\\users\\pkhobragade\\desktop\\langgraph\\langgraph\\langg\\lib\\site-packages (from requests<3,>=2->langchain) (3.3.2)\n",
      "Requirement already satisfied: idna<4,>=2.5 in c:\\users\\pkhobragade\\desktop\\langgraph\\langgraph\\langg\\lib\\site-packages (from requests<3,>=2->langchain) (3.8)\n",
      "Requirement already satisfied: urllib3<3,>=1.21.1 in c:\\users\\pkhobragade\\desktop\\langgraph\\langgraph\\langg\\lib\\site-packages (from requests<3,>=2->langchain) (2.2.2)\n",
      "Requirement already satisfied: certifi>=2017.4.17 in c:\\users\\pkhobragade\\desktop\\langgraph\\langgraph\\langg\\lib\\site-packages (from requests<3,>=2->langchain) (2024.7.4)\n",
      "Requirement already satisfied: greenlet!=0.4.17 in c:\\users\\pkhobragade\\desktop\\langgraph\\langgraph\\langg\\lib\\site-packages (from SQLAlchemy<3,>=1.4->langchain) (3.0.3)\n",
      "Requirement already satisfied: httpcore==1.* in c:\\users\\pkhobragade\\desktop\\langgraph\\langgraph\\langg\\lib\\site-packages (from httpx<1,>=0.23.0->groq<1,>=0.4.1->langchain_groq) (1.0.5)\n",
      "Requirement already satisfied: h11<0.15,>=0.13 in c:\\users\\pkhobragade\\desktop\\langgraph\\langgraph\\langg\\lib\\site-packages (from httpcore==1.*->httpx<1,>=0.23.0->groq<1,>=0.4.1->langchain_groq) (0.14.0)\n",
      "Requirement already satisfied: jsonpointer>=1.9 in c:\\users\\pkhobragade\\desktop\\langgraph\\langgraph\\langg\\lib\\site-packages (from jsonpatch<2.0,>=1.33->langchain-core<0.3,>=0.2.27->langgraph) (3.0.0)\n",
      "Requirement already satisfied: mypy-extensions>=0.3.0 in c:\\users\\pkhobragade\\desktop\\langgraph\\langgraph\\langg\\lib\\site-packages (from typing-inspect<1,>=0.4.0->dataclasses-json<0.7,>=0.5.7->langchain_community) (1.0.0)\n"
     ]
    }
   ],
   "source": [
    "!pip install langgraph langchain langchain_groq langchain_community"
   ]
  },
  {
   "cell_type": "code",
   "execution_count": 5,
   "metadata": {},
   "outputs": [
    {
     "name": "stdout",
     "output_type": "stream",
     "text": [
      "Collecting arxiv\n",
      "  Downloading arxiv-2.1.3-py3-none-any.whl.metadata (6.1 kB)\n",
      "Collecting wikipedia\n",
      "  Downloading wikipedia-1.4.0.tar.gz (27 kB)\n",
      "  Installing build dependencies: started\n",
      "  Installing build dependencies: finished with status 'done'\n",
      "  Getting requirements to build wheel: started\n",
      "  Getting requirements to build wheel: finished with status 'done'\n",
      "  Preparing metadata (pyproject.toml): started\n",
      "  Preparing metadata (pyproject.toml): finished with status 'done'\n",
      "Collecting feedparser~=6.0.10 (from arxiv)\n",
      "  Downloading feedparser-6.0.11-py3-none-any.whl.metadata (2.4 kB)\n",
      "Requirement already satisfied: requests~=2.32.0 in c:\\users\\pkhobragade\\desktop\\langgraph\\langgraph\\langg\\lib\\site-packages (from arxiv) (2.32.3)\n",
      "Collecting beautifulsoup4 (from wikipedia)\n",
      "  Using cached beautifulsoup4-4.12.3-py3-none-any.whl.metadata (3.8 kB)\n",
      "Collecting sgmllib3k (from feedparser~=6.0.10->arxiv)\n",
      "  Downloading sgmllib3k-1.0.0.tar.gz (5.8 kB)\n",
      "  Installing build dependencies: started\n",
      "  Installing build dependencies: finished with status 'done'\n",
      "  Getting requirements to build wheel: started\n",
      "  Getting requirements to build wheel: finished with status 'done'\n",
      "  Preparing metadata (pyproject.toml): started\n",
      "  Preparing metadata (pyproject.toml): finished with status 'done'\n",
      "Requirement already satisfied: charset-normalizer<4,>=2 in c:\\users\\pkhobragade\\desktop\\langgraph\\langgraph\\langg\\lib\\site-packages (from requests~=2.32.0->arxiv) (3.3.2)\n",
      "Requirement already satisfied: idna<4,>=2.5 in c:\\users\\pkhobragade\\desktop\\langgraph\\langgraph\\langg\\lib\\site-packages (from requests~=2.32.0->arxiv) (3.8)\n",
      "Requirement already satisfied: urllib3<3,>=1.21.1 in c:\\users\\pkhobragade\\desktop\\langgraph\\langgraph\\langg\\lib\\site-packages (from requests~=2.32.0->arxiv) (2.2.2)\n",
      "Requirement already satisfied: certifi>=2017.4.17 in c:\\users\\pkhobragade\\desktop\\langgraph\\langgraph\\langg\\lib\\site-packages (from requests~=2.32.0->arxiv) (2024.7.4)\n",
      "Collecting soupsieve>1.2 (from beautifulsoup4->wikipedia)\n",
      "  Using cached soupsieve-2.6-py3-none-any.whl.metadata (4.6 kB)\n",
      "Downloading arxiv-2.1.3-py3-none-any.whl (11 kB)\n",
      "Downloading feedparser-6.0.11-py3-none-any.whl (81 kB)\n",
      "Using cached beautifulsoup4-4.12.3-py3-none-any.whl (147 kB)\n",
      "Using cached soupsieve-2.6-py3-none-any.whl (36 kB)\n",
      "Building wheels for collected packages: wikipedia, sgmllib3k\n",
      "  Building wheel for wikipedia (pyproject.toml): started\n",
      "  Building wheel for wikipedia (pyproject.toml): finished with status 'done'\n",
      "  Created wheel for wikipedia: filename=wikipedia-1.4.0-py3-none-any.whl size=11706 sha256=e4374ce1644b55806bb13822cf883f6d3fac8105f1668a774b97da13c345b74e\n",
      "  Stored in directory: c:\\users\\pkhobragade\\appdata\\local\\pip\\cache\\wheels\\63\\47\\7c\\a9688349aa74d228ce0a9023229c6c0ac52ca2a40fe87679b8\n",
      "  Building wheel for sgmllib3k (pyproject.toml): started\n",
      "  Building wheel for sgmllib3k (pyproject.toml): finished with status 'done'\n",
      "  Created wheel for sgmllib3k: filename=sgmllib3k-1.0.0-py3-none-any.whl size=6061 sha256=4e21af9ffaa57582faa596aa72d19b4899ac13e8b46357f565f8329ad61643e8\n",
      "  Stored in directory: c:\\users\\pkhobragade\\appdata\\local\\pip\\cache\\wheels\\03\\f5\\1a\\23761066dac1d0e8e683e5fdb27e12de53209d05a4a37e6246\n",
      "Successfully built wikipedia sgmllib3k\n",
      "Installing collected packages: sgmllib3k, soupsieve, feedparser, beautifulsoup4, arxiv, wikipedia\n",
      "Successfully installed arxiv-2.1.3 beautifulsoup4-4.12.3 feedparser-6.0.11 sgmllib3k-1.0.0 soupsieve-2.6 wikipedia-1.4.0\n"
     ]
    }
   ],
   "source": [
    "!pip install arxiv wikipedia"
   ]
  },
  {
   "cell_type": "code",
   "execution_count": 4,
   "metadata": {},
   "outputs": [],
   "source": [
    "from typing import Annotated\n",
    "from typing_extensions import TypedDict"
   ]
  },
  {
   "cell_type": "code",
   "execution_count": 6,
   "metadata": {},
   "outputs": [],
   "source": [
    "## Working With Tools\n",
    "\n",
    "from langchain_community.utilities import ArxivAPIWrapper,WikipediaAPIWrapper\n",
    "from langchain_community.tools import ArxivQueryRun,WikipediaQueryRun\n",
    "\n",
    "## Arxiv tool\n",
    "arxiv_wrapp = ArxivAPIWrapper(top_k_results=1, doc_content_chars_max=500)\n",
    "arxiv_tool = ArxivQueryRun(api_wrapper=arxiv_wrapp)\n",
    "\n",
    "#wikitool\n",
    "\n",
    "wiki_wrapp = WikipediaAPIWrapper(top_k_results=1, doc_content_chars_max=500)\n",
    "wiki_tool = WikipediaQueryRun(api_wrapper=wiki_wrapp)"
   ]
  },
  {
   "cell_type": "code",
   "execution_count": 8,
   "metadata": {},
   "outputs": [
    {
     "data": {
      "text/plain": [
       "'Page: Prashant Kishor\\nSummary: Prashant Kishor Pandey, colloquially known as PK, is an Indian political strategist and tactician. He worked in public health programmes funded by the United Nations for eight years before venturing into Indian politics and working as a political strategist.\\nKishor has worked as a political  strategist for BJP to gain his knowledge then he worked for the BJP, JD(U), INC, AAP, YSRCP, DMK and TMC. His first major political campaign was in 2011 to help Narendra Modi, '"
      ]
     },
     "execution_count": 8,
     "metadata": {},
     "output_type": "execute_result"
    }
   ],
   "source": [
    "wiki_tool.invoke(\"who is prashant\")"
   ]
  },
  {
   "cell_type": "code",
   "execution_count": 10,
   "metadata": {},
   "outputs": [
    {
     "data": {
      "text/plain": [
       "\"Published: 2024-08-27\\nTitle: LLM Defenses Are Not Robust to Multi-Turn Human Jailbreaks Yet\\nAuthors: Nathaniel Li, Ziwen Han, Ian Steneker, Willow Primack, Riley Goodside, Hugh Zhang, Zifan Wang, Cristina Menghini, Summer Yue\\nSummary: Recent large language model (LLM) defenses have greatly improved models'\\nability to refuse harmful queries, even when adversarially attacked. However,\\nLLM defenses are primarily evaluated against automated adversarial attacks in a\\nsingle turn of conversation, an in\""
      ]
     },
     "execution_count": 10,
     "metadata": {},
     "output_type": "execute_result"
    }
   ],
   "source": [
    "arxiv_tool.invoke(\"LLM Defenses Are Not Robust to Multi-Turn Human Jailbreaks Yet\")"
   ]
  },
  {
   "cell_type": "code",
   "execution_count": 11,
   "metadata": {},
   "outputs": [],
   "source": [
    "tools = [wiki_tool, arxiv_tool]"
   ]
  },
  {
   "cell_type": "code",
   "execution_count": 12,
   "metadata": {},
   "outputs": [],
   "source": [
    "## Langgraph\n",
    "\n",
    "from langgraph.graph.message import add_messages\n",
    "\n",
    "class State(TypedDict):\n",
    "    messages: Annotated[list, add_messages]"
   ]
  },
  {
   "cell_type": "code",
   "execution_count": 13,
   "metadata": {},
   "outputs": [],
   "source": [
    "from langgraph.graph import StateGraph, START, END\n",
    "\n",
    "graph_builder = StateGraph(State)"
   ]
  },
  {
   "cell_type": "code",
   "execution_count": 16,
   "metadata": {},
   "outputs": [],
   "source": [
    "##LLM\n",
    "\n",
    "import os \n",
    "from dotenv import load_dotenv\n",
    "\n",
    "load_dotenv()\n",
    "\n",
    "GROQ_API_KEY = os.getenv(\"GROQ_API_KEY\")\n",
    "\n",
    "from langchain_groq import ChatGroq\n",
    "\n",
    "llm = ChatGroq(model = \"llama-3.1-8b-instant\",\n",
    "            temperature=0.0,\n",
    "            groq_api_key = GROQ_API_KEY)\n"
   ]
  },
  {
   "cell_type": "code",
   "execution_count": 17,
   "metadata": {},
   "outputs": [],
   "source": [
    "llm_with_tools = llm.bind_tools(tools=tools)"
   ]
  },
  {
   "cell_type": "code",
   "execution_count": 18,
   "metadata": {},
   "outputs": [],
   "source": [
    "def chatbot(state:State):\n",
    "    return {\"massages\":[llm_with_tools.invoke(state['messages'])]}"
   ]
  },
  {
   "cell_type": "code",
   "execution_count": 19,
   "metadata": {},
   "outputs": [],
   "source": [
    "from langgraph.prebuilt import ToolNode, tools_condition"
   ]
  },
  {
   "cell_type": "code",
   "execution_count": 20,
   "metadata": {},
   "outputs": [],
   "source": [
    "graph_builder.add_node(\"chatbot\", chatbot)\n",
    "tool_node = ToolNode(tools=tools)\n",
    "graph_builder.add_node(\"tools\", tool_node)\n",
    "\n",
    "graph_builder.add_conditional_edges(\"chatbot\", tools_condition)\n",
    "\n",
    "graph_builder.add_edge(\"tools\", \"chatbot\")\n",
    "graph_builder.add_edge(START, \"chatbot\")"
   ]
  },
  {
   "cell_type": "code",
   "execution_count": 21,
   "metadata": {},
   "outputs": [],
   "source": [
    "graph = graph_builder.compile()"
   ]
  },
  {
   "cell_type": "code",
   "execution_count": 22,
   "metadata": {},
   "outputs": [
    {
     "data": {
      "image/jpeg": "[encoded data removed]",
      "text/plain": [
       "<IPython.core.display.Image object>"
      ]
     },
     "metadata": {},
     "output_type": "display_data"
    }
   ],
   "source": [
    "from IPython.display import Image, display\n",
    "\n",
    "try:\n",
    "    display(Image(graph.get_graph().draw_mermaid_png()))\n",
    "except Exception:\n",
    "    # This requires some extra dependencies and is optional\n",
    "    pass"
   ]
  },
  {
   "cell_type": "code",
   "execution_count": null,
   "metadata": {},
   "outputs": [],
   "source": []
  }
 ],
 "metadata": {
  "kernelspec": {
   "display_name": "langg",
   "language": "python",
   "name": "python3"
  },
  "language_info": {
   "codemirror_mode": {
    "name": "ipython",
    "version": 3
   },
   "file_extension": ".py",
   "mimetype": "text/x-python",
   "name": "python",
   "nbconvert_exporter": "python",
   "pygments_lexer": "ipython3",
   "version": "3.12.2"
  }
 },
 "nbformat": 4,
 "nbformat_minor": 2
}
