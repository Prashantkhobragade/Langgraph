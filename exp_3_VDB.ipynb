{
 "cells": [
  {
   "cell_type": "code",
   "execution_count": 1,
   "metadata": {},
   "outputs": [
    {
     "name": "stdout",
     "output_type": "stream",
     "text": [
      "Requirement already satisfied: langchain in c:\\users\\pkhobragade\\desktop\\langgraph\\langgraph\\langg\\lib\\site-packages (0.2.15)\n",
      "Requirement already satisfied: langgraph in c:\\users\\pkhobragade\\desktop\\langgraph\\langgraph\\langg\\lib\\site-packages (0.2.16)\n",
      "Requirement already satisfied: cassio in c:\\users\\pkhobragade\\desktop\\langgraph\\langgraph\\langg\\lib\\site-packages (0.1.8)\n",
      "Requirement already satisfied: PyYAML>=5.3 in c:\\users\\pkhobragade\\desktop\\langgraph\\langgraph\\langg\\lib\\site-packages (from langchain) (6.0.2)\n",
      "Requirement already satisfied: SQLAlchemy<3,>=1.4 in c:\\users\\pkhobragade\\desktop\\langgraph\\langgraph\\langg\\lib\\site-packages (from langchain) (2.0.32)\n",
      "Requirement already satisfied: aiohttp<4.0.0,>=3.8.3 in c:\\users\\pkhobragade\\desktop\\langgraph\\langgraph\\langg\\lib\\site-packages (from langchain) (3.10.5)\n",
      "Requirement already satisfied: langchain-core<0.3.0,>=0.2.35 in c:\\users\\pkhobragade\\desktop\\langgraph\\langgraph\\langg\\lib\\site-packages (from langchain) (0.2.37)\n",
      "Requirement already satisfied: langchain-text-splitters<0.3.0,>=0.2.0 in c:\\users\\pkhobragade\\desktop\\langgraph\\langgraph\\langg\\lib\\site-packages (from langchain) (0.2.2)\n",
      "Requirement already satisfied: langsmith<0.2.0,>=0.1.17 in c:\\users\\pkhobragade\\desktop\\langgraph\\langgraph\\langg\\lib\\site-packages (from langchain) (0.1.104)\n",
      "Requirement already satisfied: numpy<2.0.0,>=1.26.0 in c:\\users\\pkhobragade\\desktop\\langgraph\\langgraph\\langg\\lib\\site-packages (from langchain) (1.26.4)\n",
      "Requirement already satisfied: pydantic<3,>=1 in c:\\users\\pkhobragade\\desktop\\langgraph\\langgraph\\langg\\lib\\site-packages (from langchain) (2.8.2)\n",
      "Requirement already satisfied: requests<3,>=2 in c:\\users\\pkhobragade\\desktop\\langgraph\\langgraph\\langg\\lib\\site-packages (from langchain) (2.32.3)\n",
      "Requirement already satisfied: tenacity!=8.4.0,<9.0.0,>=8.1.0 in c:\\users\\pkhobragade\\desktop\\langgraph\\langgraph\\langg\\lib\\site-packages (from langchain) (8.5.0)\n",
      "Requirement already satisfied: langgraph-checkpoint<2.0.0,>=1.0.2 in c:\\users\\pkhobragade\\desktop\\langgraph\\langgraph\\langg\\lib\\site-packages (from langgraph) (1.0.6)\n",
      "Requirement already satisfied: cassandra-driver<4.0.0,>=3.28.0 in c:\\users\\pkhobragade\\desktop\\langgraph\\langgraph\\langg\\lib\\site-packages (from cassio) (3.29.1)\n",
      "Requirement already satisfied: aiohappyeyeballs>=2.3.0 in c:\\users\\pkhobragade\\desktop\\langgraph\\langgraph\\langg\\lib\\site-packages (from aiohttp<4.0.0,>=3.8.3->langchain) (2.4.0)\n",
      "Requirement already satisfied: aiosignal>=1.1.2 in c:\\users\\pkhobragade\\desktop\\langgraph\\langgraph\\langg\\lib\\site-packages (from aiohttp<4.0.0,>=3.8.3->langchain) (1.3.1)\n",
      "Requirement already satisfied: attrs>=17.3.0 in c:\\users\\pkhobragade\\desktop\\langgraph\\langgraph\\langg\\lib\\site-packages (from aiohttp<4.0.0,>=3.8.3->langchain) (24.2.0)\n",
      "Requirement already satisfied: frozenlist>=1.1.1 in c:\\users\\pkhobragade\\desktop\\langgraph\\langgraph\\langg\\lib\\site-packages (from aiohttp<4.0.0,>=3.8.3->langchain) (1.4.1)\n",
      "Requirement already satisfied: multidict<7.0,>=4.5 in c:\\users\\pkhobragade\\desktop\\langgraph\\langgraph\\langg\\lib\\site-packages (from aiohttp<4.0.0,>=3.8.3->langchain) (6.0.5)\n",
      "Requirement already satisfied: yarl<2.0,>=1.0 in c:\\users\\pkhobragade\\desktop\\langgraph\\langgraph\\langg\\lib\\site-packages (from aiohttp<4.0.0,>=3.8.3->langchain) (1.9.4)\n",
      "Requirement already satisfied: geomet<0.3,>=0.1 in c:\\users\\pkhobragade\\desktop\\langgraph\\langgraph\\langg\\lib\\site-packages (from cassandra-driver<4.0.0,>=3.28.0->cassio) (0.2.1.post1)\n",
      "Requirement already satisfied: jsonpatch<2.0,>=1.33 in c:\\users\\pkhobragade\\desktop\\langgraph\\langgraph\\langg\\lib\\site-packages (from langchain-core<0.3.0,>=0.2.35->langchain) (1.33)\n",
      "Requirement already satisfied: packaging<25,>=23.2 in c:\\users\\pkhobragade\\desktop\\langgraph\\langgraph\\langg\\lib\\site-packages (from langchain-core<0.3.0,>=0.2.35->langchain) (24.1)\n",
      "Requirement already satisfied: typing-extensions>=4.7 in c:\\users\\pkhobragade\\desktop\\langgraph\\langgraph\\langg\\lib\\site-packages (from langchain-core<0.3.0,>=0.2.35->langchain) (4.12.2)\n",
      "Requirement already satisfied: httpx<1,>=0.23.0 in c:\\users\\pkhobragade\\desktop\\langgraph\\langgraph\\langg\\lib\\site-packages (from langsmith<0.2.0,>=0.1.17->langchain) (0.27.0)\n",
      "Requirement already satisfied: orjson<4.0.0,>=3.9.14 in c:\\users\\pkhobragade\\desktop\\langgraph\\langgraph\\langg\\lib\\site-packages (from langsmith<0.2.0,>=0.1.17->langchain) (3.10.7)\n",
      "Requirement already satisfied: annotated-types>=0.4.0 in c:\\users\\pkhobragade\\desktop\\langgraph\\langgraph\\langg\\lib\\site-packages (from pydantic<3,>=1->langchain) (0.7.0)\n",
      "Requirement already satisfied: pydantic-core==2.20.1 in c:\\users\\pkhobragade\\desktop\\langgraph\\langgraph\\langg\\lib\\site-packages (from pydantic<3,>=1->langchain) (2.20.1)\n",
      "Requirement already satisfied: charset-normalizer<4,>=2 in c:\\users\\pkhobragade\\desktop\\langgraph\\langgraph\\langg\\lib\\site-packages (from requests<3,>=2->langchain) (3.3.2)\n",
      "Requirement already satisfied: idna<4,>=2.5 in c:\\users\\pkhobragade\\desktop\\langgraph\\langgraph\\langg\\lib\\site-packages (from requests<3,>=2->langchain) (3.8)\n",
      "Requirement already satisfied: urllib3<3,>=1.21.1 in c:\\users\\pkhobragade\\desktop\\langgraph\\langgraph\\langg\\lib\\site-packages (from requests<3,>=2->langchain) (2.2.2)\n",
      "Requirement already satisfied: certifi>=2017.4.17 in c:\\users\\pkhobragade\\desktop\\langgraph\\langgraph\\langg\\lib\\site-packages (from requests<3,>=2->langchain) (2024.7.4)\n",
      "Requirement already satisfied: greenlet!=0.4.17 in c:\\users\\pkhobragade\\desktop\\langgraph\\langgraph\\langg\\lib\\site-packages (from SQLAlchemy<3,>=1.4->langchain) (3.0.3)\n",
      "Requirement already satisfied: click in c:\\users\\pkhobragade\\desktop\\langgraph\\langgraph\\langg\\lib\\site-packages (from geomet<0.3,>=0.1->cassandra-driver<4.0.0,>=3.28.0->cassio) (8.1.7)\n",
      "Requirement already satisfied: six in c:\\users\\pkhobragade\\desktop\\langgraph\\langgraph\\langg\\lib\\site-packages (from geomet<0.3,>=0.1->cassandra-driver<4.0.0,>=3.28.0->cassio) (1.16.0)\n",
      "Requirement already satisfied: anyio in c:\\users\\pkhobragade\\desktop\\langgraph\\langgraph\\langg\\lib\\site-packages (from httpx<1,>=0.23.0->langsmith<0.2.0,>=0.1.17->langchain) (4.4.0)\n",
      "Requirement already satisfied: httpcore==1.* in c:\\users\\pkhobragade\\desktop\\langgraph\\langgraph\\langg\\lib\\site-packages (from httpx<1,>=0.23.0->langsmith<0.2.0,>=0.1.17->langchain) (1.0.5)\n",
      "Requirement already satisfied: sniffio in c:\\users\\pkhobragade\\desktop\\langgraph\\langgraph\\langg\\lib\\site-packages (from httpx<1,>=0.23.0->langsmith<0.2.0,>=0.1.17->langchain) (1.3.1)\n",
      "Requirement already satisfied: h11<0.15,>=0.13 in c:\\users\\pkhobragade\\desktop\\langgraph\\langgraph\\langg\\lib\\site-packages (from httpcore==1.*->httpx<1,>=0.23.0->langsmith<0.2.0,>=0.1.17->langchain) (0.14.0)\n",
      "Requirement already satisfied: jsonpointer>=1.9 in c:\\users\\pkhobragade\\desktop\\langgraph\\langgraph\\langg\\lib\\site-packages (from jsonpatch<2.0,>=1.33->langchain-core<0.3.0,>=0.2.35->langchain) (3.0.0)\n",
      "Requirement already satisfied: colorama in c:\\users\\pkhobragade\\desktop\\langgraph\\langgraph\\langg\\lib\\site-packages (from click->geomet<0.3,>=0.1->cassandra-driver<4.0.0,>=3.28.0->cassio) (0.4.6)\n"
     ]
    }
   ],
   "source": [
    "!pip install langchain langgraph cassio"
   ]
  },
  {
   "cell_type": "code",
   "execution_count": 2,
   "metadata": {},
   "outputs": [
    {
     "name": "stdout",
     "output_type": "stream",
     "text": [
      "Requirement already satisfied: langchain_community in c:\\users\\pkhobragade\\desktop\\langgraph\\langgraph\\langg\\lib\\site-packages (0.2.15)\n",
      "Requirement already satisfied: PyYAML>=5.3 in c:\\users\\pkhobragade\\desktop\\langgraph\\langgraph\\langg\\lib\\site-packages (from langchain_community) (6.0.2)\n",
      "Requirement already satisfied: SQLAlchemy<3,>=1.4 in c:\\users\\pkhobragade\\desktop\\langgraph\\langgraph\\langg\\lib\\site-packages (from langchain_community) (2.0.32)\n",
      "Requirement already satisfied: aiohttp<4.0.0,>=3.8.3 in c:\\users\\pkhobragade\\desktop\\langgraph\\langgraph\\langg\\lib\\site-packages (from langchain_community) (3.10.5)\n",
      "Requirement already satisfied: dataclasses-json<0.7,>=0.5.7 in c:\\users\\pkhobragade\\desktop\\langgraph\\langgraph\\langg\\lib\\site-packages (from langchain_community) (0.6.7)\n",
      "Requirement already satisfied: langchain<0.3.0,>=0.2.15 in c:\\users\\pkhobragade\\desktop\\langgraph\\langgraph\\langg\\lib\\site-packages (from langchain_community) (0.2.15)\n",
      "Requirement already satisfied: langchain-core<0.3.0,>=0.2.37 in c:\\users\\pkhobragade\\desktop\\langgraph\\langgraph\\langg\\lib\\site-packages (from langchain_community) (0.2.37)\n",
      "Requirement already satisfied: langsmith<0.2.0,>=0.1.0 in c:\\users\\pkhobragade\\desktop\\langgraph\\langgraph\\langg\\lib\\site-packages (from langchain_community) (0.1.104)\n",
      "Requirement already satisfied: numpy<2.0.0,>=1.26.0 in c:\\users\\pkhobragade\\desktop\\langgraph\\langgraph\\langg\\lib\\site-packages (from langchain_community) (1.26.4)\n",
      "Requirement already satisfied: requests<3,>=2 in c:\\users\\pkhobragade\\desktop\\langgraph\\langgraph\\langg\\lib\\site-packages (from langchain_community) (2.32.3)\n",
      "Requirement already satisfied: tenacity!=8.4.0,<9.0.0,>=8.1.0 in c:\\users\\pkhobragade\\desktop\\langgraph\\langgraph\\langg\\lib\\site-packages (from langchain_community) (8.5.0)\n",
      "Requirement already satisfied: aiohappyeyeballs>=2.3.0 in c:\\users\\pkhobragade\\desktop\\langgraph\\langgraph\\langg\\lib\\site-packages (from aiohttp<4.0.0,>=3.8.3->langchain_community) (2.4.0)\n",
      "Requirement already satisfied: aiosignal>=1.1.2 in c:\\users\\pkhobragade\\desktop\\langgraph\\langgraph\\langg\\lib\\site-packages (from aiohttp<4.0.0,>=3.8.3->langchain_community) (1.3.1)\n",
      "Requirement already satisfied: attrs>=17.3.0 in c:\\users\\pkhobragade\\desktop\\langgraph\\langgraph\\langg\\lib\\site-packages (from aiohttp<4.0.0,>=3.8.3->langchain_community) (24.2.0)\n",
      "Requirement already satisfied: frozenlist>=1.1.1 in c:\\users\\pkhobragade\\desktop\\langgraph\\langgraph\\langg\\lib\\site-packages (from aiohttp<4.0.0,>=3.8.3->langchain_community) (1.4.1)\n",
      "Requirement already satisfied: multidict<7.0,>=4.5 in c:\\users\\pkhobragade\\desktop\\langgraph\\langgraph\\langg\\lib\\site-packages (from aiohttp<4.0.0,>=3.8.3->langchain_community) (6.0.5)\n",
      "Requirement already satisfied: yarl<2.0,>=1.0 in c:\\users\\pkhobragade\\desktop\\langgraph\\langgraph\\langg\\lib\\site-packages (from aiohttp<4.0.0,>=3.8.3->langchain_community) (1.9.4)\n",
      "Requirement already satisfied: marshmallow<4.0.0,>=3.18.0 in c:\\users\\pkhobragade\\desktop\\langgraph\\langgraph\\langg\\lib\\site-packages (from dataclasses-json<0.7,>=0.5.7->langchain_community) (3.22.0)\n",
      "Requirement already satisfied: typing-inspect<1,>=0.4.0 in c:\\users\\pkhobragade\\desktop\\langgraph\\langgraph\\langg\\lib\\site-packages (from dataclasses-json<0.7,>=0.5.7->langchain_community) (0.9.0)\n",
      "Requirement already satisfied: langchain-text-splitters<0.3.0,>=0.2.0 in c:\\users\\pkhobragade\\desktop\\langgraph\\langgraph\\langg\\lib\\site-packages (from langchain<0.3.0,>=0.2.15->langchain_community) (0.2.2)\n",
      "Requirement already satisfied: pydantic<3,>=1 in c:\\users\\pkhobragade\\desktop\\langgraph\\langgraph\\langg\\lib\\site-packages (from langchain<0.3.0,>=0.2.15->langchain_community) (2.8.2)\n",
      "Requirement already satisfied: jsonpatch<2.0,>=1.33 in c:\\users\\pkhobragade\\desktop\\langgraph\\langgraph\\langg\\lib\\site-packages (from langchain-core<0.3.0,>=0.2.37->langchain_community) (1.33)\n",
      "Requirement already satisfied: packaging<25,>=23.2 in c:\\users\\pkhobragade\\desktop\\langgraph\\langgraph\\langg\\lib\\site-packages (from langchain-core<0.3.0,>=0.2.37->langchain_community) (24.1)\n",
      "Requirement already satisfied: typing-extensions>=4.7 in c:\\users\\pkhobragade\\desktop\\langgraph\\langgraph\\langg\\lib\\site-packages (from langchain-core<0.3.0,>=0.2.37->langchain_community) (4.12.2)\n",
      "Requirement already satisfied: httpx<1,>=0.23.0 in c:\\users\\pkhobragade\\desktop\\langgraph\\langgraph\\langg\\lib\\site-packages (from langsmith<0.2.0,>=0.1.0->langchain_community) (0.27.0)\n",
      "Requirement already satisfied: orjson<4.0.0,>=3.9.14 in c:\\users\\pkhobragade\\desktop\\langgraph\\langgraph\\langg\\lib\\site-packages (from langsmith<0.2.0,>=0.1.0->langchain_community) (3.10.7)\n",
      "Requirement already satisfied: charset-normalizer<4,>=2 in c:\\users\\pkhobragade\\desktop\\langgraph\\langgraph\\langg\\lib\\site-packages (from requests<3,>=2->langchain_community) (3.3.2)\n",
      "Requirement already satisfied: idna<4,>=2.5 in c:\\users\\pkhobragade\\desktop\\langgraph\\langgraph\\langg\\lib\\site-packages (from requests<3,>=2->langchain_community) (3.8)\n",
      "Requirement already satisfied: urllib3<3,>=1.21.1 in c:\\users\\pkhobragade\\desktop\\langgraph\\langgraph\\langg\\lib\\site-packages (from requests<3,>=2->langchain_community) (2.2.2)\n",
      "Requirement already satisfied: certifi>=2017.4.17 in c:\\users\\pkhobragade\\desktop\\langgraph\\langgraph\\langg\\lib\\site-packages (from requests<3,>=2->langchain_community) (2024.7.4)\n",
      "Requirement already satisfied: greenlet!=0.4.17 in c:\\users\\pkhobragade\\desktop\\langgraph\\langgraph\\langg\\lib\\site-packages (from SQLAlchemy<3,>=1.4->langchain_community) (3.0.3)\n",
      "Requirement already satisfied: anyio in c:\\users\\pkhobragade\\desktop\\langgraph\\langgraph\\langg\\lib\\site-packages (from httpx<1,>=0.23.0->langsmith<0.2.0,>=0.1.0->langchain_community) (4.4.0)\n",
      "Requirement already satisfied: httpcore==1.* in c:\\users\\pkhobragade\\desktop\\langgraph\\langgraph\\langg\\lib\\site-packages (from httpx<1,>=0.23.0->langsmith<0.2.0,>=0.1.0->langchain_community) (1.0.5)\n",
      "Requirement already satisfied: sniffio in c:\\users\\pkhobragade\\desktop\\langgraph\\langgraph\\langg\\lib\\site-packages (from httpx<1,>=0.23.0->langsmith<0.2.0,>=0.1.0->langchain_community) (1.3.1)\n",
      "Requirement already satisfied: h11<0.15,>=0.13 in c:\\users\\pkhobragade\\desktop\\langgraph\\langgraph\\langg\\lib\\site-packages (from httpcore==1.*->httpx<1,>=0.23.0->langsmith<0.2.0,>=0.1.0->langchain_community) (0.14.0)\n",
      "Requirement already satisfied: jsonpointer>=1.9 in c:\\users\\pkhobragade\\desktop\\langgraph\\langgraph\\langg\\lib\\site-packages (from jsonpatch<2.0,>=1.33->langchain-core<0.3.0,>=0.2.37->langchain_community) (3.0.0)\n",
      "Requirement already satisfied: annotated-types>=0.4.0 in c:\\users\\pkhobragade\\desktop\\langgraph\\langgraph\\langg\\lib\\site-packages (from pydantic<3,>=1->langchain<0.3.0,>=0.2.15->langchain_community) (0.7.0)\n",
      "Requirement already satisfied: pydantic-core==2.20.1 in c:\\users\\pkhobragade\\desktop\\langgraph\\langgraph\\langg\\lib\\site-packages (from pydantic<3,>=1->langchain<0.3.0,>=0.2.15->langchain_community) (2.20.1)\n",
      "Requirement already satisfied: mypy-extensions>=0.3.0 in c:\\users\\pkhobragade\\desktop\\langgraph\\langgraph\\langg\\lib\\site-packages (from typing-inspect<1,>=0.4.0->dataclasses-json<0.7,>=0.5.7->langchain_community) (1.0.0)\n"
     ]
    }
   ],
   "source": [
    "!pip install langchain_community"
   ]
  },
  {
   "cell_type": "code",
   "execution_count": 3,
   "metadata": {},
   "outputs": [
    {
     "name": "stdout",
     "output_type": "stream",
     "text": [
      "Requirement already satisfied: tiktoken in c:\\users\\pkhobragade\\desktop\\langgraph\\langgraph\\langg\\lib\\site-packages (0.7.0)\n",
      "Requirement already satisfied: langchain-groq in c:\\users\\pkhobragade\\desktop\\langgraph\\langgraph\\langg\\lib\\site-packages (0.1.9)\n",
      "Requirement already satisfied: langchainhub in c:\\users\\pkhobragade\\desktop\\langgraph\\langgraph\\langg\\lib\\site-packages (0.1.21)\n",
      "Requirement already satisfied: chromadb in c:\\users\\pkhobragade\\desktop\\langgraph\\langgraph\\langg\\lib\\site-packages (0.5.5)\n",
      "Requirement already satisfied: langchain in c:\\users\\pkhobragade\\desktop\\langgraph\\langgraph\\langg\\lib\\site-packages (0.2.15)\n",
      "Requirement already satisfied: langgraph in c:\\users\\pkhobragade\\desktop\\langgraph\\langgraph\\langg\\lib\\site-packages (0.2.16)\n",
      "Requirement already satisfied: langchain_huggingface in c:\\users\\pkhobragade\\desktop\\langgraph\\langgraph\\langg\\lib\\site-packages (0.0.3)\n",
      "Requirement already satisfied: regex>=2022.1.18 in c:\\users\\pkhobragade\\desktop\\langgraph\\langgraph\\langg\\lib\\site-packages (from tiktoken) (2024.7.24)\n",
      "Requirement already satisfied: requests>=2.26.0 in c:\\users\\pkhobragade\\desktop\\langgraph\\langgraph\\langg\\lib\\site-packages (from tiktoken) (2.32.3)\n",
      "Requirement already satisfied: groq<1,>=0.4.1 in c:\\users\\pkhobragade\\desktop\\langgraph\\langgraph\\langg\\lib\\site-packages (from langchain-groq) (0.9.0)\n",
      "Requirement already satisfied: langchain-core<0.3.0,>=0.2.26 in c:\\users\\pkhobragade\\desktop\\langgraph\\langgraph\\langg\\lib\\site-packages (from langchain-groq) (0.2.37)\n",
      "Requirement already satisfied: packaging<25,>=23.2 in c:\\users\\pkhobragade\\desktop\\langgraph\\langgraph\\langg\\lib\\site-packages (from langchainhub) (24.1)\n",
      "Requirement already satisfied: types-requests<3.0.0.0,>=2.31.0.2 in c:\\users\\pkhobragade\\desktop\\langgraph\\langgraph\\langg\\lib\\site-packages (from langchainhub) (2.32.0.20240712)\n",
      "Requirement already satisfied: build>=1.0.3 in c:\\users\\pkhobragade\\desktop\\langgraph\\langgraph\\langg\\lib\\site-packages (from chromadb) (1.2.1)\n",
      "Requirement already satisfied: pydantic>=1.9 in c:\\users\\pkhobragade\\desktop\\langgraph\\langgraph\\langg\\lib\\site-packages (from chromadb) (2.8.2)\n",
      "Requirement already satisfied: chroma-hnswlib==0.7.6 in c:\\users\\pkhobragade\\desktop\\langgraph\\langgraph\\langg\\lib\\site-packages (from chromadb) (0.7.6)\n",
      "Requirement already satisfied: fastapi>=0.95.2 in c:\\users\\pkhobragade\\desktop\\langgraph\\langgraph\\langg\\lib\\site-packages (from chromadb) (0.112.2)\n",
      "Requirement already satisfied: uvicorn>=0.18.3 in c:\\users\\pkhobragade\\desktop\\langgraph\\langgraph\\langg\\lib\\site-packages (from uvicorn[standard]>=0.18.3->chromadb) (0.30.6)\n",
      "Requirement already satisfied: numpy<2.0.0,>=1.22.5 in c:\\users\\pkhobragade\\desktop\\langgraph\\langgraph\\langg\\lib\\site-packages (from chromadb) (1.26.4)\n",
      "Requirement already satisfied: posthog>=2.4.0 in c:\\users\\pkhobragade\\desktop\\langgraph\\langgraph\\langg\\lib\\site-packages (from chromadb) (3.6.0)\n",
      "Requirement already satisfied: typing-extensions>=4.5.0 in c:\\users\\pkhobragade\\desktop\\langgraph\\langgraph\\langg\\lib\\site-packages (from chromadb) (4.12.2)\n",
      "Requirement already satisfied: onnxruntime>=1.14.1 in c:\\users\\pkhobragade\\desktop\\langgraph\\langgraph\\langg\\lib\\site-packages (from chromadb) (1.19.0)\n",
      "Requirement already satisfied: opentelemetry-api>=1.2.0 in c:\\users\\pkhobragade\\desktop\\langgraph\\langgraph\\langg\\lib\\site-packages (from chromadb) (1.27.0)\n",
      "Requirement already satisfied: opentelemetry-exporter-otlp-proto-grpc>=1.2.0 in c:\\users\\pkhobragade\\desktop\\langgraph\\langgraph\\langg\\lib\\site-packages (from chromadb) (1.27.0)\n",
      "Requirement already satisfied: opentelemetry-instrumentation-fastapi>=0.41b0 in c:\\users\\pkhobragade\\desktop\\langgraph\\langgraph\\langg\\lib\\site-packages (from chromadb) (0.48b0)\n",
      "Requirement already satisfied: opentelemetry-sdk>=1.2.0 in c:\\users\\pkhobragade\\desktop\\langgraph\\langgraph\\langg\\lib\\site-packages (from chromadb) (1.27.0)\n",
      "Requirement already satisfied: tokenizers>=0.13.2 in c:\\users\\pkhobragade\\desktop\\langgraph\\langgraph\\langg\\lib\\site-packages (from chromadb) (0.19.1)\n",
      "Requirement already satisfied: pypika>=0.48.9 in c:\\users\\pkhobragade\\desktop\\langgraph\\langgraph\\langg\\lib\\site-packages (from chromadb) (0.48.9)\n",
      "Requirement already satisfied: tqdm>=4.65.0 in c:\\users\\pkhobragade\\desktop\\langgraph\\langgraph\\langg\\lib\\site-packages (from chromadb) (4.66.5)\n",
      "Requirement already satisfied: overrides>=7.3.1 in c:\\users\\pkhobragade\\desktop\\langgraph\\langgraph\\langg\\lib\\site-packages (from chromadb) (7.7.0)\n",
      "Requirement already satisfied: importlib-resources in c:\\users\\pkhobragade\\desktop\\langgraph\\langgraph\\langg\\lib\\site-packages (from chromadb) (6.4.4)\n",
      "Requirement already satisfied: grpcio>=1.58.0 in c:\\users\\pkhobragade\\desktop\\langgraph\\langgraph\\langg\\lib\\site-packages (from chromadb) (1.66.1)\n",
      "Requirement already satisfied: bcrypt>=4.0.1 in c:\\users\\pkhobragade\\desktop\\langgraph\\langgraph\\langg\\lib\\site-packages (from chromadb) (4.2.0)\n",
      "Requirement already satisfied: typer>=0.9.0 in c:\\users\\pkhobragade\\desktop\\langgraph\\langgraph\\langg\\lib\\site-packages (from chromadb) (0.12.5)\n",
      "Requirement already satisfied: kubernetes>=28.1.0 in c:\\users\\pkhobragade\\desktop\\langgraph\\langgraph\\langg\\lib\\site-packages (from chromadb) (30.1.0)\n",
      "Requirement already satisfied: tenacity>=8.2.3 in c:\\users\\pkhobragade\\desktop\\langgraph\\langgraph\\langg\\lib\\site-packages (from chromadb) (8.5.0)\n",
      "Requirement already satisfied: PyYAML>=6.0.0 in c:\\users\\pkhobragade\\desktop\\langgraph\\langgraph\\langg\\lib\\site-packages (from chromadb) (6.0.2)\n",
      "Requirement already satisfied: mmh3>=4.0.1 in c:\\users\\pkhobragade\\desktop\\langgraph\\langgraph\\langg\\lib\\site-packages (from chromadb) (4.1.0)\n",
      "Requirement already satisfied: orjson>=3.9.12 in c:\\users\\pkhobragade\\desktop\\langgraph\\langgraph\\langg\\lib\\site-packages (from chromadb) (3.10.7)\n",
      "Requirement already satisfied: httpx>=0.27.0 in c:\\users\\pkhobragade\\desktop\\langgraph\\langgraph\\langg\\lib\\site-packages (from chromadb) (0.27.0)\n",
      "Requirement already satisfied: SQLAlchemy<3,>=1.4 in c:\\users\\pkhobragade\\desktop\\langgraph\\langgraph\\langg\\lib\\site-packages (from langchain) (2.0.32)\n",
      "Requirement already satisfied: aiohttp<4.0.0,>=3.8.3 in c:\\users\\pkhobragade\\desktop\\langgraph\\langgraph\\langg\\lib\\site-packages (from langchain) (3.10.5)\n",
      "Requirement already satisfied: langchain-text-splitters<0.3.0,>=0.2.0 in c:\\users\\pkhobragade\\desktop\\langgraph\\langgraph\\langg\\lib\\site-packages (from langchain) (0.2.2)\n",
      "Requirement already satisfied: langsmith<0.2.0,>=0.1.17 in c:\\users\\pkhobragade\\desktop\\langgraph\\langgraph\\langg\\lib\\site-packages (from langchain) (0.1.104)\n",
      "Requirement already satisfied: langgraph-checkpoint<2.0.0,>=1.0.2 in c:\\users\\pkhobragade\\desktop\\langgraph\\langgraph\\langg\\lib\\site-packages (from langgraph) (1.0.6)\n",
      "Requirement already satisfied: huggingface-hub>=0.23.0 in c:\\users\\pkhobragade\\desktop\\langgraph\\langgraph\\langg\\lib\\site-packages (from langchain_huggingface) (0.24.6)\n",
      "Requirement already satisfied: sentence-transformers>=2.6.0 in c:\\users\\pkhobragade\\desktop\\langgraph\\langgraph\\langg\\lib\\site-packages (from langchain_huggingface) (3.0.1)\n",
      "Requirement already satisfied: transformers>=4.39.0 in c:\\users\\pkhobragade\\desktop\\langgraph\\langgraph\\langg\\lib\\site-packages (from langchain_huggingface) (4.44.2)\n",
      "Requirement already satisfied: aiohappyeyeballs>=2.3.0 in c:\\users\\pkhobragade\\desktop\\langgraph\\langgraph\\langg\\lib\\site-packages (from aiohttp<4.0.0,>=3.8.3->langchain) (2.4.0)\n",
      "Requirement already satisfied: aiosignal>=1.1.2 in c:\\users\\pkhobragade\\desktop\\langgraph\\langgraph\\langg\\lib\\site-packages (from aiohttp<4.0.0,>=3.8.3->langchain) (1.3.1)\n",
      "Requirement already satisfied: attrs>=17.3.0 in c:\\users\\pkhobragade\\desktop\\langgraph\\langgraph\\langg\\lib\\site-packages (from aiohttp<4.0.0,>=3.8.3->langchain) (24.2.0)\n",
      "Requirement already satisfied: frozenlist>=1.1.1 in c:\\users\\pkhobragade\\desktop\\langgraph\\langgraph\\langg\\lib\\site-packages (from aiohttp<4.0.0,>=3.8.3->langchain) (1.4.1)\n",
      "Requirement already satisfied: multidict<7.0,>=4.5 in c:\\users\\pkhobragade\\desktop\\langgraph\\langgraph\\langg\\lib\\site-packages (from aiohttp<4.0.0,>=3.8.3->langchain) (6.0.5)\n",
      "Requirement already satisfied: yarl<2.0,>=1.0 in c:\\users\\pkhobragade\\desktop\\langgraph\\langgraph\\langg\\lib\\site-packages (from aiohttp<4.0.0,>=3.8.3->langchain) (1.9.4)\n",
      "Requirement already satisfied: pyproject_hooks in c:\\users\\pkhobragade\\desktop\\langgraph\\langgraph\\langg\\lib\\site-packages (from build>=1.0.3->chromadb) (1.1.0)\n",
      "Requirement already satisfied: colorama in c:\\users\\pkhobragade\\desktop\\langgraph\\langgraph\\langg\\lib\\site-packages (from build>=1.0.3->chromadb) (0.4.6)\n",
      "Requirement already satisfied: starlette<0.39.0,>=0.37.2 in c:\\users\\pkhobragade\\desktop\\langgraph\\langgraph\\langg\\lib\\site-packages (from fastapi>=0.95.2->chromadb) (0.38.4)\n",
      "Requirement already satisfied: anyio<5,>=3.5.0 in c:\\users\\pkhobragade\\desktop\\langgraph\\langgraph\\langg\\lib\\site-packages (from groq<1,>=0.4.1->langchain-groq) (4.4.0)\n",
      "Requirement already satisfied: distro<2,>=1.7.0 in c:\\users\\pkhobragade\\desktop\\langgraph\\langgraph\\langg\\lib\\site-packages (from groq<1,>=0.4.1->langchain-groq) (1.9.0)\n",
      "Requirement already satisfied: sniffio in c:\\users\\pkhobragade\\desktop\\langgraph\\langgraph\\langg\\lib\\site-packages (from groq<1,>=0.4.1->langchain-groq) (1.3.1)\n",
      "Requirement already satisfied: certifi in c:\\users\\pkhobragade\\desktop\\langgraph\\langgraph\\langg\\lib\\site-packages (from httpx>=0.27.0->chromadb) (2024.7.4)\n",
      "Requirement already satisfied: httpcore==1.* in c:\\users\\pkhobragade\\desktop\\langgraph\\langgraph\\langg\\lib\\site-packages (from httpx>=0.27.0->chromadb) (1.0.5)\n",
      "Requirement already satisfied: idna in c:\\users\\pkhobragade\\desktop\\langgraph\\langgraph\\langg\\lib\\site-packages (from httpx>=0.27.0->chromadb) (3.8)\n",
      "Requirement already satisfied: h11<0.15,>=0.13 in c:\\users\\pkhobragade\\desktop\\langgraph\\langgraph\\langg\\lib\\site-packages (from httpcore==1.*->httpx>=0.27.0->chromadb) (0.14.0)\n",
      "Requirement already satisfied: filelock in c:\\users\\pkhobragade\\desktop\\langgraph\\langgraph\\langg\\lib\\site-packages (from huggingface-hub>=0.23.0->langchain_huggingface) (3.15.4)\n",
      "Requirement already satisfied: fsspec>=2023.5.0 in c:\\users\\pkhobragade\\desktop\\langgraph\\langgraph\\langg\\lib\\site-packages (from huggingface-hub>=0.23.0->langchain_huggingface) (2024.6.1)\n",
      "Requirement already satisfied: six>=1.9.0 in c:\\users\\pkhobragade\\desktop\\langgraph\\langgraph\\langg\\lib\\site-packages (from kubernetes>=28.1.0->chromadb) (1.16.0)\n",
      "Requirement already satisfied: python-dateutil>=2.5.3 in c:\\users\\pkhobragade\\desktop\\langgraph\\langgraph\\langg\\lib\\site-packages (from kubernetes>=28.1.0->chromadb) (2.9.0.post0)\n",
      "Requirement already satisfied: google-auth>=1.0.1 in c:\\users\\pkhobragade\\desktop\\langgraph\\langgraph\\langg\\lib\\site-packages (from kubernetes>=28.1.0->chromadb) (2.34.0)\n",
      "Requirement already satisfied: websocket-client!=0.40.0,!=0.41.*,!=0.42.*,>=0.32.0 in c:\\users\\pkhobragade\\desktop\\langgraph\\langgraph\\langg\\lib\\site-packages (from kubernetes>=28.1.0->chromadb) (1.8.0)\n",
      "Requirement already satisfied: requests-oauthlib in c:\\users\\pkhobragade\\desktop\\langgraph\\langgraph\\langg\\lib\\site-packages (from kubernetes>=28.1.0->chromadb) (2.0.0)\n",
      "Requirement already satisfied: oauthlib>=3.2.2 in c:\\users\\pkhobragade\\desktop\\langgraph\\langgraph\\langg\\lib\\site-packages (from kubernetes>=28.1.0->chromadb) (3.2.2)\n",
      "Requirement already satisfied: urllib3>=1.24.2 in c:\\users\\pkhobragade\\desktop\\langgraph\\langgraph\\langg\\lib\\site-packages (from kubernetes>=28.1.0->chromadb) (2.2.2)\n",
      "Requirement already satisfied: jsonpatch<2.0,>=1.33 in c:\\users\\pkhobragade\\desktop\\langgraph\\langgraph\\langg\\lib\\site-packages (from langchain-core<0.3.0,>=0.2.26->langchain-groq) (1.33)\n",
      "Requirement already satisfied: coloredlogs in c:\\users\\pkhobragade\\desktop\\langgraph\\langgraph\\langg\\lib\\site-packages (from onnxruntime>=1.14.1->chromadb) (15.0.1)\n",
      "Requirement already satisfied: flatbuffers in c:\\users\\pkhobragade\\desktop\\langgraph\\langgraph\\langg\\lib\\site-packages (from onnxruntime>=1.14.1->chromadb) (24.3.25)\n",
      "Requirement already satisfied: protobuf in c:\\users\\pkhobragade\\desktop\\langgraph\\langgraph\\langg\\lib\\site-packages (from onnxruntime>=1.14.1->chromadb) (4.25.4)\n",
      "Requirement already satisfied: sympy in c:\\users\\pkhobragade\\desktop\\langgraph\\langgraph\\langg\\lib\\site-packages (from onnxruntime>=1.14.1->chromadb) (1.13.2)\n",
      "Requirement already satisfied: deprecated>=1.2.6 in c:\\users\\pkhobragade\\desktop\\langgraph\\langgraph\\langg\\lib\\site-packages (from opentelemetry-api>=1.2.0->chromadb) (1.2.14)\n",
      "Requirement already satisfied: importlib-metadata<=8.4.0,>=6.0 in c:\\users\\pkhobragade\\desktop\\langgraph\\langgraph\\langg\\lib\\site-packages (from opentelemetry-api>=1.2.0->chromadb) (8.4.0)\n",
      "Requirement already satisfied: googleapis-common-protos~=1.52 in c:\\users\\pkhobragade\\desktop\\langgraph\\langgraph\\langg\\lib\\site-packages (from opentelemetry-exporter-otlp-proto-grpc>=1.2.0->chromadb) (1.65.0)\n",
      "Requirement already satisfied: opentelemetry-exporter-otlp-proto-common==1.27.0 in c:\\users\\pkhobragade\\desktop\\langgraph\\langgraph\\langg\\lib\\site-packages (from opentelemetry-exporter-otlp-proto-grpc>=1.2.0->chromadb) (1.27.0)\n",
      "Requirement already satisfied: opentelemetry-proto==1.27.0 in c:\\users\\pkhobragade\\desktop\\langgraph\\langgraph\\langg\\lib\\site-packages (from opentelemetry-exporter-otlp-proto-grpc>=1.2.0->chromadb) (1.27.0)\n",
      "Requirement already satisfied: opentelemetry-instrumentation-asgi==0.48b0 in c:\\users\\pkhobragade\\desktop\\langgraph\\langgraph\\langg\\lib\\site-packages (from opentelemetry-instrumentation-fastapi>=0.41b0->chromadb) (0.48b0)\n",
      "Requirement already satisfied: opentelemetry-instrumentation==0.48b0 in c:\\users\\pkhobragade\\desktop\\langgraph\\langgraph\\langg\\lib\\site-packages (from opentelemetry-instrumentation-fastapi>=0.41b0->chromadb) (0.48b0)\n",
      "Requirement already satisfied: opentelemetry-semantic-conventions==0.48b0 in c:\\users\\pkhobragade\\desktop\\langgraph\\langgraph\\langg\\lib\\site-packages (from opentelemetry-instrumentation-fastapi>=0.41b0->chromadb) (0.48b0)\n",
      "Requirement already satisfied: opentelemetry-util-http==0.48b0 in c:\\users\\pkhobragade\\desktop\\langgraph\\langgraph\\langg\\lib\\site-packages (from opentelemetry-instrumentation-fastapi>=0.41b0->chromadb) (0.48b0)\n",
      "Requirement already satisfied: setuptools>=16.0 in c:\\users\\pkhobragade\\desktop\\langgraph\\langgraph\\langg\\lib\\site-packages (from opentelemetry-instrumentation==0.48b0->opentelemetry-instrumentation-fastapi>=0.41b0->chromadb) (74.0.0)\n",
      "Requirement already satisfied: wrapt<2.0.0,>=1.0.0 in c:\\users\\pkhobragade\\desktop\\langgraph\\langgraph\\langg\\lib\\site-packages (from opentelemetry-instrumentation==0.48b0->opentelemetry-instrumentation-fastapi>=0.41b0->chromadb) (1.16.0)\n",
      "Requirement already satisfied: asgiref~=3.0 in c:\\users\\pkhobragade\\desktop\\langgraph\\langgraph\\langg\\lib\\site-packages (from opentelemetry-instrumentation-asgi==0.48b0->opentelemetry-instrumentation-fastapi>=0.41b0->chromadb) (3.8.1)\n",
      "Requirement already satisfied: monotonic>=1.5 in c:\\users\\pkhobragade\\desktop\\langgraph\\langgraph\\langg\\lib\\site-packages (from posthog>=2.4.0->chromadb) (1.6)\n",
      "Requirement already satisfied: backoff>=1.10.0 in c:\\users\\pkhobragade\\desktop\\langgraph\\langgraph\\langg\\lib\\site-packages (from posthog>=2.4.0->chromadb) (2.2.1)\n",
      "Requirement already satisfied: annotated-types>=0.4.0 in c:\\users\\pkhobragade\\desktop\\langgraph\\langgraph\\langg\\lib\\site-packages (from pydantic>=1.9->chromadb) (0.7.0)\n",
      "Requirement already satisfied: pydantic-core==2.20.1 in c:\\users\\pkhobragade\\desktop\\langgraph\\langgraph\\langg\\lib\\site-packages (from pydantic>=1.9->chromadb) (2.20.1)\n",
      "Requirement already satisfied: charset-normalizer<4,>=2 in c:\\users\\pkhobragade\\desktop\\langgraph\\langgraph\\langg\\lib\\site-packages (from requests>=2.26.0->tiktoken) (3.3.2)\n",
      "Requirement already satisfied: torch>=1.11.0 in c:\\users\\pkhobragade\\desktop\\langgraph\\langgraph\\langg\\lib\\site-packages (from sentence-transformers>=2.6.0->langchain_huggingface) (2.4.0)\n",
      "Requirement already satisfied: scikit-learn in c:\\users\\pkhobragade\\desktop\\langgraph\\langgraph\\langg\\lib\\site-packages (from sentence-transformers>=2.6.0->langchain_huggingface) (1.5.1)\n",
      "Requirement already satisfied: scipy in c:\\users\\pkhobragade\\desktop\\langgraph\\langgraph\\langg\\lib\\site-packages (from sentence-transformers>=2.6.0->langchain_huggingface) (1.14.1)\n",
      "Requirement already satisfied: Pillow in c:\\users\\pkhobragade\\desktop\\langgraph\\langgraph\\langg\\lib\\site-packages (from sentence-transformers>=2.6.0->langchain_huggingface) (10.4.0)\n",
      "Requirement already satisfied: greenlet!=0.4.17 in c:\\users\\pkhobragade\\desktop\\langgraph\\langgraph\\langg\\lib\\site-packages (from SQLAlchemy<3,>=1.4->langchain) (3.0.3)\n",
      "Requirement already satisfied: safetensors>=0.4.1 in c:\\users\\pkhobragade\\desktop\\langgraph\\langgraph\\langg\\lib\\site-packages (from transformers>=4.39.0->langchain_huggingface) (0.4.4)\n",
      "Requirement already satisfied: click>=8.0.0 in c:\\users\\pkhobragade\\desktop\\langgraph\\langgraph\\langg\\lib\\site-packages (from typer>=0.9.0->chromadb) (8.1.7)\n",
      "Requirement already satisfied: shellingham>=1.3.0 in c:\\users\\pkhobragade\\desktop\\langgraph\\langgraph\\langg\\lib\\site-packages (from typer>=0.9.0->chromadb) (1.5.4)\n",
      "Requirement already satisfied: rich>=10.11.0 in c:\\users\\pkhobragade\\desktop\\langgraph\\langgraph\\langg\\lib\\site-packages (from typer>=0.9.0->chromadb) (13.8.0)\n",
      "Requirement already satisfied: httptools>=0.5.0 in c:\\users\\pkhobragade\\desktop\\langgraph\\langgraph\\langg\\lib\\site-packages (from uvicorn[standard]>=0.18.3->chromadb) (0.6.1)\n",
      "Requirement already satisfied: python-dotenv>=0.13 in c:\\users\\pkhobragade\\desktop\\langgraph\\langgraph\\langg\\lib\\site-packages (from uvicorn[standard]>=0.18.3->chromadb) (1.0.1)\n",
      "Requirement already satisfied: watchfiles>=0.13 in c:\\users\\pkhobragade\\desktop\\langgraph\\langgraph\\langg\\lib\\site-packages (from uvicorn[standard]>=0.18.3->chromadb) (0.24.0)\n",
      "Requirement already satisfied: websockets>=10.4 in c:\\users\\pkhobragade\\desktop\\langgraph\\langgraph\\langg\\lib\\site-packages (from uvicorn[standard]>=0.18.3->chromadb) (13.0.1)\n",
      "Requirement already satisfied: cachetools<6.0,>=2.0.0 in c:\\users\\pkhobragade\\desktop\\langgraph\\langgraph\\langg\\lib\\site-packages (from google-auth>=1.0.1->kubernetes>=28.1.0->chromadb) (5.5.0)\n",
      "Requirement already satisfied: pyasn1-modules>=0.2.1 in c:\\users\\pkhobragade\\desktop\\langgraph\\langgraph\\langg\\lib\\site-packages (from google-auth>=1.0.1->kubernetes>=28.1.0->chromadb) (0.4.0)\n",
      "Requirement already satisfied: rsa<5,>=3.1.4 in c:\\users\\pkhobragade\\desktop\\langgraph\\langgraph\\langg\\lib\\site-packages (from google-auth>=1.0.1->kubernetes>=28.1.0->chromadb) (4.9)\n",
      "Requirement already satisfied: zipp>=0.5 in c:\\users\\pkhobragade\\desktop\\langgraph\\langgraph\\langg\\lib\\site-packages (from importlib-metadata<=8.4.0,>=6.0->opentelemetry-api>=1.2.0->chromadb) (3.20.1)\n",
      "Requirement already satisfied: jsonpointer>=1.9 in c:\\users\\pkhobragade\\desktop\\langgraph\\langgraph\\langg\\lib\\site-packages (from jsonpatch<2.0,>=1.33->langchain-core<0.3.0,>=0.2.26->langchain-groq) (3.0.0)\n",
      "Requirement already satisfied: markdown-it-py>=2.2.0 in c:\\users\\pkhobragade\\desktop\\langgraph\\langgraph\\langg\\lib\\site-packages (from rich>=10.11.0->typer>=0.9.0->chromadb) (3.0.0)\n",
      "Requirement already satisfied: pygments<3.0.0,>=2.13.0 in c:\\users\\pkhobragade\\desktop\\langgraph\\langgraph\\langg\\lib\\site-packages (from rich>=10.11.0->typer>=0.9.0->chromadb) (2.18.0)\n",
      "Requirement already satisfied: networkx in c:\\users\\pkhobragade\\desktop\\langgraph\\langgraph\\langg\\lib\\site-packages (from torch>=1.11.0->sentence-transformers>=2.6.0->langchain_huggingface) (3.3)\n",
      "Requirement already satisfied: jinja2 in c:\\users\\pkhobragade\\desktop\\langgraph\\langgraph\\langg\\lib\\site-packages (from torch>=1.11.0->sentence-transformers>=2.6.0->langchain_huggingface) (3.1.4)\n",
      "Requirement already satisfied: humanfriendly>=9.1 in c:\\users\\pkhobragade\\desktop\\langgraph\\langgraph\\langg\\lib\\site-packages (from coloredlogs->onnxruntime>=1.14.1->chromadb) (10.0)\n",
      "Requirement already satisfied: joblib>=1.2.0 in c:\\users\\pkhobragade\\desktop\\langgraph\\langgraph\\langg\\lib\\site-packages (from scikit-learn->sentence-transformers>=2.6.0->langchain_huggingface) (1.4.2)\n",
      "Requirement already satisfied: threadpoolctl>=3.1.0 in c:\\users\\pkhobragade\\desktop\\langgraph\\langgraph\\langg\\lib\\site-packages (from scikit-learn->sentence-transformers>=2.6.0->langchain_huggingface) (3.5.0)\n",
      "Requirement already satisfied: mpmath<1.4,>=1.1.0 in c:\\users\\pkhobragade\\desktop\\langgraph\\langgraph\\langg\\lib\\site-packages (from sympy->onnxruntime>=1.14.1->chromadb) (1.3.0)\n",
      "Requirement already satisfied: pyreadline3 in c:\\users\\pkhobragade\\desktop\\langgraph\\langgraph\\langg\\lib\\site-packages (from humanfriendly>=9.1->coloredlogs->onnxruntime>=1.14.1->chromadb) (3.4.1)\n",
      "Requirement already satisfied: mdurl~=0.1 in c:\\users\\pkhobragade\\desktop\\langgraph\\langgraph\\langg\\lib\\site-packages (from markdown-it-py>=2.2.0->rich>=10.11.0->typer>=0.9.0->chromadb) (0.1.2)\n",
      "Requirement already satisfied: pyasn1<0.7.0,>=0.4.6 in c:\\users\\pkhobragade\\desktop\\langgraph\\langgraph\\langg\\lib\\site-packages (from pyasn1-modules>=0.2.1->google-auth>=1.0.1->kubernetes>=28.1.0->chromadb) (0.6.0)\n",
      "Requirement already satisfied: MarkupSafe>=2.0 in c:\\users\\pkhobragade\\desktop\\langgraph\\langgraph\\langg\\lib\\site-packages (from jinja2->torch>=1.11.0->sentence-transformers>=2.6.0->langchain_huggingface) (2.1.5)\n"
     ]
    }
   ],
   "source": [
    "!pip install -U tiktoken langchain-groq langchainhub chromadb langchain langgraph langchain_huggingface"
   ]
  },
  {
   "cell_type": "code",
   "execution_count": null,
   "metadata": {},
   "outputs": [],
   "source": [
    "#Connecting Vector DB\n",
    "import cassio\n",
    "\n",
    "\n",
    "import os \n",
    "from dotenv import load_dotenv\n",
    "\n",
    "load_dotenv()\n",
    "## connection of the ASTRA DB\n",
    "ASTRA_DB_APPLICATION_TOKEN= os.getenv(\"ASTRA_DB_APPLICATION_TOKEN\")# enter the \"AstraCS:...\" string found in in your Token JSON file\"\n",
    "ASTRA_DB_ID= os.getenv(\"ASTRA_DB_ID\")\n",
    "cassio.init(token=ASTRA_DB_APPLICATION_TOKEN,database_id=ASTRA_DB_ID)\n"
   ]
  },
  {
   "cell_type": "code",
   "execution_count": 4,
   "metadata": {},
   "outputs": [],
   "source": [
    "from langchain_community.vectorstores import chroma"
   ]
  },
  {
   "cell_type": "markdown",
   "metadata": {},
   "source": [
    "\n",
    "    * will use chroma db insted of aster db.\n",
    "    `step 1: urls = [], load and split the data`\n",
    "\n",
    "    `step 2: create embeddings using huggingface model`\n",
    "\n",
    "    `step 3: store embeddings in vector DB`\n",
    "\n",
    "    ```step 4: from langchain.indexes.vectorstore import VectorStoreIndexWrapper\n",
    "                astra_vector_store.add_documents(doc_splits)\n",
    "                print(\"Inserted %i headlines.\" % len(doc_splits))\n",
    "\n",
    "                astra_vector_index = VectorStoreIndexWrapper(vectorstore=astra_vector_store)```\n",
    "\n",
    "    `step 5: create a retriver`\n"
   ]
  },
  {
   "cell_type": "markdown",
   "metadata": {},
   "source": [
    "urls = [\n",
    "    \"https://lilianweng.github.io/posts/2023-06-23-agent/\",\n",
    "\n",
    "    \"https://lilianweng.github.io/posts/2023-03-15-prompt-engineering/\",\n",
    "    \n",
    "    \"https://lilianweng.github.io/posts/2023-10-25-adv-attack-llm/\",\n",
    "]"
   ]
  },
  {
   "cell_type": "code",
   "execution_count": 5,
   "metadata": {},
   "outputs": [
    {
     "name": "stderr",
     "output_type": "stream",
     "text": [
      "USER_AGENT environment variable not set, consider setting it to identify your requests.\n"
     ]
    }
   ],
   "source": [
    "#Build Index\n",
    "\n",
    "from langchain.text_splitter import RecursiveCharacterTextSplitter\n",
    "from langchain_community.document_loaders import WebBaseLoader\n",
    "from langchain_community.vectorstores import Chroma\n",
    "\n",
    "urls = [\n",
    "    \"https://lilianweng.github.io/posts/2023-06-23-agent/\",\n",
    "    \"https://lilianweng.github.io/posts/2023-03-15-prompt-engineering/\",\n",
    "    \"https://lilianweng.github.io/posts/2023-10-25-adv-attack-llm/\",\n",
    "]\n",
    "\n",
    "\n",
    "#Load \n",
    "\n",
    "docs = [WebBaseLoader(url).load() for url in urls]\n",
    "docs_list = [item for sublist in docs for item in sublist]\n",
    "\n",
    "#split\n",
    "text_splitter = RecursiveCharacterTextSplitter.from_tiktoken_encoder(\n",
    "    chunk_size=500, chunk_overlap = 0\n",
    ")\n",
    "\n",
    "doc_splits = text_splitter.split_documents(docs_list)"
   ]
  },
  {
   "cell_type": "code",
   "execution_count": 7,
   "metadata": {},
   "outputs": [
    {
     "name": "stderr",
     "output_type": "stream",
     "text": [
      "c:\\Users\\pkhobragade\\Desktop\\Langgraph\\Langgraph\\langg\\Lib\\site-packages\\sentence_transformers\\cross_encoder\\CrossEncoder.py:11: TqdmWarning: IProgress not found. Please update jupyter and ipywidgets. See https://ipywidgets.readthedocs.io/en/stable/user_install.html\n",
      "  from tqdm.autonotebook import tqdm, trange\n",
      "c:\\Users\\pkhobragade\\Desktop\\Langgraph\\Langgraph\\langg\\Lib\\site-packages\\huggingface_hub\\file_download.py:159: UserWarning: `huggingface_hub` cache-system uses symlinks by default to efficiently store duplicated files but your machine does not support them in C:\\Users\\pkhobragade\\.cache\\huggingface\\hub\\models--sentence-transformers--all-MiniLM-L6-v2. Caching files will still work but in a degraded version that might require more space on your disk. This warning can be disabled by setting the `HF_HUB_DISABLE_SYMLINKS_WARNING` environment variable. For more details, see https://huggingface.co/docs/huggingface_hub/how-to-cache#limitations.\n",
      "To support symlinks on Windows, you either need to activate Developer Mode or to run Python as an administrator. In order to see activate developer mode, see this article: https://docs.microsoft.com/en-us/windows/apps/get-started/enable-your-device-for-development\n",
      "  warnings.warn(message)\n",
      "c:\\Users\\pkhobragade\\Desktop\\Langgraph\\Langgraph\\langg\\Lib\\site-packages\\transformers\\tokenization_utils_base.py:1601: FutureWarning: `clean_up_tokenization_spaces` was not set. It will be set to `True` by default. This behavior will be depracted in transformers v4.45, and will be then set to `False` by default. For more details check this issue: https://github.com/huggingface/transformers/issues/31884\n",
      "  warnings.warn(\n"
     ]
    }
   ],
   "source": [
    "import os\n",
    "from langchain_huggingface import HuggingFaceEmbeddings\n",
    "\n",
    "HUGGINGFACE_TOKEN = os.getenv(\"HUGGINGFACE_TOKEN\")\n",
    "embeddings=HuggingFaceEmbeddings(model_name=\"all-MiniLM-L6-v2\")"
   ]
  },
  {
   "cell_type": "code",
   "execution_count": 10,
   "metadata": {},
   "outputs": [
    {
     "name": "stderr",
     "output_type": "stream",
     "text": [
      "C:\\Users\\pkhobragade\\AppData\\Local\\Temp\\ipykernel_31196\\1521201812.py:4: LangChainDeprecationWarning: The class `Chroma` was deprecated in LangChain 0.2.9 and will be removed in 1.0. An updated version of the class exists in the langchain-chroma package and should be used instead. To use it run `pip install -U langchain-chroma` and import as `from langchain_chroma import Chroma`.\n",
      "  vector_store = Chroma(\n",
      "Python-dotenv could not parse statement starting at line 1\n"
     ]
    }
   ],
   "source": [
    "from langchain_community.vectorstores import Chroma\n",
    "\n",
    "\n",
    "vector_store = Chroma(\n",
    "    collection_name=\"langgraph_demo\",\n",
    "    embedding_function=embeddings,\n",
    "    persist_directory=\"./chroma_langchain_db\",  # Where to save data locally, remove if not neccesary\n",
    ")"
   ]
  },
  {
   "cell_type": "code",
   "execution_count": 11,
   "metadata": {},
   "outputs": [
    {
     "name": "stdout",
     "output_type": "stream",
     "text": [
      "Inserted 88 headlines.\n"
     ]
    }
   ],
   "source": [
    "from langchain.indexes.vectorstore import VectorStoreIndexWrapper\n",
    "vector_store.add_documents(doc_splits)\n",
    "print(\"Inserted %i headlines.\" % len(doc_splits))"
   ]
  },
  {
   "cell_type": "code",
   "execution_count": null,
   "metadata": {},
   "outputs": [],
   "source": []
  }
 ],
 "metadata": {
  "kernelspec": {
   "display_name": "langg",
   "language": "python",
   "name": "python3"
  },
  "language_info": {
   "codemirror_mode": {
    "name": "ipython",
    "version": 3
   },
   "file_extension": ".py",
   "mimetype": "text/x-python",
   "name": "python",
   "nbconvert_exporter": "python",
   "pygments_lexer": "ipython3",
   "version": "3.12.2"
  }
 },
 "nbformat": 4,
 "nbformat_minor": 2
}
